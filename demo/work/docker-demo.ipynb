{
 "cells": [
  {
   "cell_type": "markdown",
   "metadata": {},
   "source": [
    "### Start a spark session"
   ]
  },
  {
   "cell_type": "code",
   "metadata": {
    "jupyter": {
     "source_hidden": true
    },
    "ExecuteTime": {
     "end_time": "2025-03-20T08:55:27.708631Z",
     "start_time": "2025-03-20T08:55:22.072816Z"
    }
   },
   "source": [
    "from pyspark.sql import SparkSession\n",
    "\n",
    "spark = SparkSession \\\n",
    "    .builder \\\n",
    "    .appName(\"Python Spark SQL basic example\") \\\n",
    "    .config(\"spark.sql.extensions\", \"io.delta.sql.DeltaSparkSessionExtension\") \\\n",
    "    .config(\"spark.sql.catalog.spark_catalog\", \"org.apache.spark.sql.delta.catalog.DeltaCatalog\") \\\n",
    "    .config(\"spark.jars.packages\", \"io.delta:delta-sharing-spark_2.12:3.3.0\") \\\n",
    "    .getOrCreate()"
   ],
   "outputs": [
    {
     "name": "stderr",
     "output_type": "stream",
     "text": [
      "25/03/20 09:55:23 WARN Utils: Your hostname, MacBook-Pro-von-Henri.local resolves to a loopback address: 127.0.0.1; using 10.51.3.132 instead (on interface en0)\n",
      "25/03/20 09:55:23 WARN Utils: Set SPARK_LOCAL_IP if you need to bind to another address\n"
     ]
    },
    {
     "name": "stdout",
     "output_type": "stream",
     "text": [
      ":: loading settings :: url = jar:file:/Users/henribreuer/anaconda3/envs/start-belimo/lib/python3.10/site-packages/pyspark/jars/ivy-2.5.1.jar!/org/apache/ivy/core/settings/ivysettings.xml\n"
     ]
    },
    {
     "name": "stderr",
     "output_type": "stream",
     "text": [
      "Ivy Default Cache set to: /Users/henribreuer/.ivy2/cache\n",
      "The jars for the packages stored in: /Users/henribreuer/.ivy2/jars\n",
      "io.delta#delta-sharing-spark_2.12 added as a dependency\n",
      ":: resolving dependencies :: org.apache.spark#spark-submit-parent-7aea041e-8cc5-4099-b961-2ea5abd1bb43;1.0\n",
      "\tconfs: [default]\n",
      "\tfound io.delta#delta-sharing-spark_2.12;3.3.0 in central\n",
      "\tfound io.delta#delta-spark_2.12;3.3.0 in central\n",
      "\tfound io.delta#delta-storage;3.3.0 in central\n",
      "\tfound org.antlr#antlr4-runtime;4.9.3 in central\n",
      "\tfound io.delta#delta-sharing-client_2.12;1.2.2 in central\n",
      "\tfound org.apache.httpcomponents#httpclient;4.5.14 in central\n",
      "\tfound org.apache.httpcomponents#httpcore;4.4.16 in central\n",
      "\tfound commons-logging#commons-logging;1.2 in local-m2-cache\n",
      "\tfound commons-codec#commons-codec;1.11 in local-m2-cache\n",
      ":: resolution report :: resolve 633ms :: artifacts dl 71ms\n",
      "\t:: modules in use:\n",
      "\tcommons-codec#commons-codec;1.11 from local-m2-cache in [default]\n",
      "\tcommons-logging#commons-logging;1.2 from local-m2-cache in [default]\n",
      "\tio.delta#delta-sharing-client_2.12;1.2.2 from central in [default]\n",
      "\tio.delta#delta-sharing-spark_2.12;3.3.0 from central in [default]\n",
      "\tio.delta#delta-spark_2.12;3.3.0 from central in [default]\n",
      "\tio.delta#delta-storage;3.3.0 from central in [default]\n",
      "\torg.antlr#antlr4-runtime;4.9.3 from central in [default]\n",
      "\torg.apache.httpcomponents#httpclient;4.5.14 from central in [default]\n",
      "\torg.apache.httpcomponents#httpcore;4.4.16 from central in [default]\n",
      "\t---------------------------------------------------------------------\n",
      "\t|                  |            modules            ||   artifacts   |\n",
      "\t|       conf       | number| search|dwnlded|evicted|| number|dwnlded|\n",
      "\t---------------------------------------------------------------------\n",
      "\t|      default     |   9   |   0   |   0   |   0   ||   9   |   0   |\n",
      "\t---------------------------------------------------------------------\n",
      ":: retrieving :: org.apache.spark#spark-submit-parent-7aea041e-8cc5-4099-b961-2ea5abd1bb43\n",
      "\tconfs: [default]\n",
      "\t0 artifacts copied, 9 already retrieved (0kB/16ms)\n",
      "25/03/20 09:55:25 WARN NativeCodeLoader: Unable to load native-hadoop library for your platform... using builtin-java classes where applicable\n",
      "Setting default log level to \"WARN\".\n",
      "To adjust logging level use sc.setLogLevel(newLevel). For SparkR, use setLogLevel(newLevel).\n"
     ]
    }
   ],
   "execution_count": 1
  },
  {
   "cell_type": "markdown",
   "metadata": {
    "application/vnd.databricks.v1+cell": {
     "cellMetadata": {},
     "inputWidgets": {},
     "nuid": "aee784f9-1eb0-4a68-b122-22e05faedf3e",
     "showTitle": false,
     "tableResultSettingsMap": {},
     "title": ""
    }
   },
   "source": [
    "### List Tables\n",
    "Use the provided config"
   ]
  },
  {
   "cell_type": "code",
   "metadata": {
    "jupyter": {
     "source_hidden": true
    },
    "ExecuteTime": {
     "end_time": "2025-03-19T21:01:27.018912Z",
     "start_time": "2025-03-19T21:01:26.369280Z"
    }
   },
   "source": [
    "import delta_sharing\n",
    "config = \"config.share\"\n",
    "client = delta_sharing.SharingClient(config)\n",
    "client.list_all_tables()"
   ],
   "outputs": [
    {
     "data": {
      "text/plain": [
       "[Table(name='ev3_device_data', share='start_hack_2025', schema='start_hack_2025'),\n",
       " Table(name='cc_api_logs', share='start_hack_2025', schema='start_hack_2025'),\n",
       " Table(name='ev3_dataprofile', share='start_hack_2025', schema='start_hack_2025')]"
      ]
     },
     "execution_count": 5,
     "metadata": {},
     "output_type": "execute_result"
    }
   ],
   "execution_count": 5
  },
  {
   "cell_type": "markdown",
   "metadata": {
    "application/vnd.databricks.v1+cell": {
     "cellMetadata": {},
     "inputWidgets": {},
     "nuid": "04d6c843-0398-4933-ad9c-2e806ea5a3ad",
     "showTitle": false,
     "tableResultSettingsMap": {},
     "title": ""
    }
   },
   "source": [
    "### Table 1\n",
    "Energyvalve 3 dataprofile describing the datapoints found in the device data table."
   ]
  },
  {
   "cell_type": "code",
   "metadata": {
    "application/vnd.databricks.v1+cell": {
     "cellMetadata": {
      "byteLimit": 2048000,
      "rowLimit": 10000
     },
     "inputWidgets": {},
     "nuid": "ec8533c7-c95d-4d0a-9cd2-7d3995367409",
     "showTitle": false,
     "tableResultSettingsMap": {},
     "title": ""
    },
    "jupyter": {
     "source_hidden": true
    },
    "ExecuteTime": {
     "end_time": "2025-03-20T12:10:52.478880Z",
     "start_time": "2025-03-20T12:07:16.606397Z"
    }
   },
   "source": [
    "from pyspark.sql.functions import col\n",
    "device_id = \"1a9da8fa-6fa8-49f3-8aaa-420b34eefe57\"\n",
    "df = spark.read.format(\"deltaSharing\").load(\"config.share#start_hack_2025.start_hack_2025.ev3_device_data\").filter((col(\"device_id\") == device_id))\n",
    "\n",
    "dataframe = df.toPandas()\n",
    "dataframe"
   ],
   "outputs": [
    {
     "name": "stderr",
     "output_type": "stream",
     "text": [
      "25/03/20 13:07:19 WARN DeltaSharingUtils: Found and removing existing block for test_delta-sharing-log:/config.share%23start_hack_2025.start_hack_2025.ev3_device_data_d14bc553e654be500c03dfa48b09e97bccc1f39ed45dec95f20be9d8b267d579/_delta_log/00000000000000000000.json.\n",
      "25/03/20 13:07:19 WARN DeltaSharingUtils: Found and removing existing block for test_delta-sharing-log:/config.share%23start_hack_2025.start_hack_2025.ev3_device_data_d14bc553e654be500c03dfa48b09e97bccc1f39ed45dec95f20be9d8b267d579/_delta_log.\n",
      "ERROR:root:KeyboardInterrupt while sending command.                (0 + 0) / 50]\n",
      "Traceback (most recent call last):\n",
      "  File \"/Users/henribreuer/anaconda3/envs/start-belimo/lib/python3.10/site-packages/py4j/java_gateway.py\", line 1038, in send_command\n",
      "    response = connection.send_command(command)\n",
      "  File \"/Users/henribreuer/anaconda3/envs/start-belimo/lib/python3.10/site-packages/py4j/clientserver.py\", line 511, in send_command\n",
      "    answer = smart_decode(self.stream.readline()[:-1])\n",
      "  File \"/Users/henribreuer/anaconda3/envs/start-belimo/lib/python3.10/socket.py\", line 717, in readinto\n",
      "    return self._sock.recv_into(b)\n",
      "KeyboardInterrupt\n",
      "[Stage 75:=======>     (468 + 13) / 769][Stage 77:>                (0 + 0) / 50]\r"
     ]
    },
    {
     "ename": "KeyboardInterrupt",
     "evalue": "",
     "output_type": "error",
     "traceback": [
      "\u001B[0;31m---------------------------------------------------------------------------\u001B[0m",
      "\u001B[0;31mKeyboardInterrupt\u001B[0m                         Traceback (most recent call last)",
      "Cell \u001B[0;32mIn[22], line 5\u001B[0m\n\u001B[1;32m      2\u001B[0m device_id \u001B[38;5;241m=\u001B[39m \u001B[38;5;124m\"\u001B[39m\u001B[38;5;124m1a9da8fa-6fa8-49f3-8aaa-420b34eefe57\u001B[39m\u001B[38;5;124m\"\u001B[39m\n\u001B[1;32m      3\u001B[0m df \u001B[38;5;241m=\u001B[39m spark\u001B[38;5;241m.\u001B[39mread\u001B[38;5;241m.\u001B[39mformat(\u001B[38;5;124m\"\u001B[39m\u001B[38;5;124mdeltaSharing\u001B[39m\u001B[38;5;124m\"\u001B[39m)\u001B[38;5;241m.\u001B[39mload(\u001B[38;5;124m\"\u001B[39m\u001B[38;5;124mconfig.share#start_hack_2025.start_hack_2025.ev3_device_data\u001B[39m\u001B[38;5;124m\"\u001B[39m)\u001B[38;5;241m.\u001B[39mfilter((col(\u001B[38;5;124m\"\u001B[39m\u001B[38;5;124mdevice_id\u001B[39m\u001B[38;5;124m\"\u001B[39m) \u001B[38;5;241m==\u001B[39m device_id))\n\u001B[0;32m----> 5\u001B[0m dataframe \u001B[38;5;241m=\u001B[39m \u001B[43mdf\u001B[49m\u001B[38;5;241;43m.\u001B[39;49m\u001B[43mtoPandas\u001B[49m\u001B[43m(\u001B[49m\u001B[43m)\u001B[49m\n\u001B[1;32m      6\u001B[0m dataframe\n",
      "File \u001B[0;32m~/anaconda3/envs/start-belimo/lib/python3.10/site-packages/pyspark/sql/pandas/conversion.py:202\u001B[0m, in \u001B[0;36mPandasConversionMixin.toPandas\u001B[0;34m(self)\u001B[0m\n\u001B[1;32m    199\u001B[0m             \u001B[38;5;28;01mraise\u001B[39;00m\n\u001B[1;32m    201\u001B[0m \u001B[38;5;66;03m# Below is toPandas without Arrow optimization.\u001B[39;00m\n\u001B[0;32m--> 202\u001B[0m rows \u001B[38;5;241m=\u001B[39m \u001B[38;5;28;43mself\u001B[39;49m\u001B[38;5;241;43m.\u001B[39;49m\u001B[43mcollect\u001B[49m\u001B[43m(\u001B[49m\u001B[43m)\u001B[49m\n\u001B[1;32m    203\u001B[0m \u001B[38;5;28;01mif\u001B[39;00m \u001B[38;5;28mlen\u001B[39m(rows) \u001B[38;5;241m>\u001B[39m \u001B[38;5;241m0\u001B[39m:\n\u001B[1;32m    204\u001B[0m     pdf \u001B[38;5;241m=\u001B[39m pd\u001B[38;5;241m.\u001B[39mDataFrame\u001B[38;5;241m.\u001B[39mfrom_records(\n\u001B[1;32m    205\u001B[0m         rows, index\u001B[38;5;241m=\u001B[39m\u001B[38;5;28mrange\u001B[39m(\u001B[38;5;28mlen\u001B[39m(rows)), columns\u001B[38;5;241m=\u001B[39m\u001B[38;5;28mself\u001B[39m\u001B[38;5;241m.\u001B[39mcolumns  \u001B[38;5;66;03m# type: ignore[arg-type]\u001B[39;00m\n\u001B[1;32m    206\u001B[0m     )\n",
      "File \u001B[0;32m~/anaconda3/envs/start-belimo/lib/python3.10/site-packages/pyspark/sql/dataframe.py:1263\u001B[0m, in \u001B[0;36mDataFrame.collect\u001B[0;34m(self)\u001B[0m\n\u001B[1;32m   1243\u001B[0m \u001B[38;5;250m\u001B[39m\u001B[38;5;124;03m\"\"\"Returns all the records as a list of :class:`Row`.\u001B[39;00m\n\u001B[1;32m   1244\u001B[0m \n\u001B[1;32m   1245\u001B[0m \u001B[38;5;124;03m.. versionadded:: 1.3.0\u001B[39;00m\n\u001B[0;32m   (...)\u001B[0m\n\u001B[1;32m   1260\u001B[0m \u001B[38;5;124;03m[Row(age=14, name='Tom'), Row(age=23, name='Alice'), Row(age=16, name='Bob')]\u001B[39;00m\n\u001B[1;32m   1261\u001B[0m \u001B[38;5;124;03m\"\"\"\u001B[39;00m\n\u001B[1;32m   1262\u001B[0m \u001B[38;5;28;01mwith\u001B[39;00m SCCallSiteSync(\u001B[38;5;28mself\u001B[39m\u001B[38;5;241m.\u001B[39m_sc):\n\u001B[0;32m-> 1263\u001B[0m     sock_info \u001B[38;5;241m=\u001B[39m \u001B[38;5;28;43mself\u001B[39;49m\u001B[38;5;241;43m.\u001B[39;49m\u001B[43m_jdf\u001B[49m\u001B[38;5;241;43m.\u001B[39;49m\u001B[43mcollectToPython\u001B[49m\u001B[43m(\u001B[49m\u001B[43m)\u001B[49m\n\u001B[1;32m   1264\u001B[0m \u001B[38;5;28;01mreturn\u001B[39;00m \u001B[38;5;28mlist\u001B[39m(_load_from_socket(sock_info, BatchedSerializer(CPickleSerializer())))\n",
      "File \u001B[0;32m~/anaconda3/envs/start-belimo/lib/python3.10/site-packages/py4j/java_gateway.py:1321\u001B[0m, in \u001B[0;36mJavaMember.__call__\u001B[0;34m(self, *args)\u001B[0m\n\u001B[1;32m   1314\u001B[0m args_command, temp_args \u001B[38;5;241m=\u001B[39m \u001B[38;5;28mself\u001B[39m\u001B[38;5;241m.\u001B[39m_build_args(\u001B[38;5;241m*\u001B[39margs)\n\u001B[1;32m   1316\u001B[0m command \u001B[38;5;241m=\u001B[39m proto\u001B[38;5;241m.\u001B[39mCALL_COMMAND_NAME \u001B[38;5;241m+\u001B[39m\\\n\u001B[1;32m   1317\u001B[0m     \u001B[38;5;28mself\u001B[39m\u001B[38;5;241m.\u001B[39mcommand_header \u001B[38;5;241m+\u001B[39m\\\n\u001B[1;32m   1318\u001B[0m     args_command \u001B[38;5;241m+\u001B[39m\\\n\u001B[1;32m   1319\u001B[0m     proto\u001B[38;5;241m.\u001B[39mEND_COMMAND_PART\n\u001B[0;32m-> 1321\u001B[0m answer \u001B[38;5;241m=\u001B[39m \u001B[38;5;28;43mself\u001B[39;49m\u001B[38;5;241;43m.\u001B[39;49m\u001B[43mgateway_client\u001B[49m\u001B[38;5;241;43m.\u001B[39;49m\u001B[43msend_command\u001B[49m\u001B[43m(\u001B[49m\u001B[43mcommand\u001B[49m\u001B[43m)\u001B[49m\n\u001B[1;32m   1322\u001B[0m return_value \u001B[38;5;241m=\u001B[39m get_return_value(\n\u001B[1;32m   1323\u001B[0m     answer, \u001B[38;5;28mself\u001B[39m\u001B[38;5;241m.\u001B[39mgateway_client, \u001B[38;5;28mself\u001B[39m\u001B[38;5;241m.\u001B[39mtarget_id, \u001B[38;5;28mself\u001B[39m\u001B[38;5;241m.\u001B[39mname)\n\u001B[1;32m   1325\u001B[0m \u001B[38;5;28;01mfor\u001B[39;00m temp_arg \u001B[38;5;129;01min\u001B[39;00m temp_args:\n",
      "File \u001B[0;32m~/anaconda3/envs/start-belimo/lib/python3.10/site-packages/py4j/java_gateway.py:1038\u001B[0m, in \u001B[0;36mGatewayClient.send_command\u001B[0;34m(self, command, retry, binary)\u001B[0m\n\u001B[1;32m   1036\u001B[0m connection \u001B[38;5;241m=\u001B[39m \u001B[38;5;28mself\u001B[39m\u001B[38;5;241m.\u001B[39m_get_connection()\n\u001B[1;32m   1037\u001B[0m \u001B[38;5;28;01mtry\u001B[39;00m:\n\u001B[0;32m-> 1038\u001B[0m     response \u001B[38;5;241m=\u001B[39m \u001B[43mconnection\u001B[49m\u001B[38;5;241;43m.\u001B[39;49m\u001B[43msend_command\u001B[49m\u001B[43m(\u001B[49m\u001B[43mcommand\u001B[49m\u001B[43m)\u001B[49m\n\u001B[1;32m   1039\u001B[0m     \u001B[38;5;28;01mif\u001B[39;00m binary:\n\u001B[1;32m   1040\u001B[0m         \u001B[38;5;28;01mreturn\u001B[39;00m response, \u001B[38;5;28mself\u001B[39m\u001B[38;5;241m.\u001B[39m_create_connection_guard(connection)\n",
      "File \u001B[0;32m~/anaconda3/envs/start-belimo/lib/python3.10/site-packages/py4j/clientserver.py:511\u001B[0m, in \u001B[0;36mClientServerConnection.send_command\u001B[0;34m(self, command)\u001B[0m\n\u001B[1;32m    509\u001B[0m \u001B[38;5;28;01mtry\u001B[39;00m:\n\u001B[1;32m    510\u001B[0m     \u001B[38;5;28;01mwhile\u001B[39;00m \u001B[38;5;28;01mTrue\u001B[39;00m:\n\u001B[0;32m--> 511\u001B[0m         answer \u001B[38;5;241m=\u001B[39m smart_decode(\u001B[38;5;28;43mself\u001B[39;49m\u001B[38;5;241;43m.\u001B[39;49m\u001B[43mstream\u001B[49m\u001B[38;5;241;43m.\u001B[39;49m\u001B[43mreadline\u001B[49m\u001B[43m(\u001B[49m\u001B[43m)\u001B[49m[:\u001B[38;5;241m-\u001B[39m\u001B[38;5;241m1\u001B[39m])\n\u001B[1;32m    512\u001B[0m         logger\u001B[38;5;241m.\u001B[39mdebug(\u001B[38;5;124m\"\u001B[39m\u001B[38;5;124mAnswer received: \u001B[39m\u001B[38;5;132;01m{0}\u001B[39;00m\u001B[38;5;124m\"\u001B[39m\u001B[38;5;241m.\u001B[39mformat(answer))\n\u001B[1;32m    513\u001B[0m         \u001B[38;5;66;03m# Happens when a the other end is dead. There might be an empty\u001B[39;00m\n\u001B[1;32m    514\u001B[0m         \u001B[38;5;66;03m# answer before the socket raises an error.\u001B[39;00m\n",
      "File \u001B[0;32m~/anaconda3/envs/start-belimo/lib/python3.10/socket.py:717\u001B[0m, in \u001B[0;36mSocketIO.readinto\u001B[0;34m(self, b)\u001B[0m\n\u001B[1;32m    715\u001B[0m \u001B[38;5;28;01mwhile\u001B[39;00m \u001B[38;5;28;01mTrue\u001B[39;00m:\n\u001B[1;32m    716\u001B[0m     \u001B[38;5;28;01mtry\u001B[39;00m:\n\u001B[0;32m--> 717\u001B[0m         \u001B[38;5;28;01mreturn\u001B[39;00m \u001B[38;5;28;43mself\u001B[39;49m\u001B[38;5;241;43m.\u001B[39;49m\u001B[43m_sock\u001B[49m\u001B[38;5;241;43m.\u001B[39;49m\u001B[43mrecv_into\u001B[49m\u001B[43m(\u001B[49m\u001B[43mb\u001B[49m\u001B[43m)\u001B[49m\n\u001B[1;32m    718\u001B[0m     \u001B[38;5;28;01mexcept\u001B[39;00m timeout:\n\u001B[1;32m    719\u001B[0m         \u001B[38;5;28mself\u001B[39m\u001B[38;5;241m.\u001B[39m_timeout_occurred \u001B[38;5;241m=\u001B[39m \u001B[38;5;28;01mTrue\u001B[39;00m\n",
      "\u001B[0;31mKeyboardInterrupt\u001B[0m: "
     ]
    }
   ],
   "execution_count": 22
  },
  {
   "metadata": {
    "ExecuteTime": {
     "end_time": "2025-03-19T21:25:58.162684Z",
     "start_time": "2025-03-19T21:25:58.095587Z"
    }
   },
   "cell_type": "code",
   "source": "dataframe.to_excel(\"ev3_dataprofile.xlsx\", index=False)",
   "outputs": [],
   "execution_count": 17
  },
  {
   "cell_type": "markdown",
   "metadata": {
    "application/vnd.databricks.v1+cell": {
     "cellMetadata": {},
     "inputWidgets": {},
     "nuid": "b8cf45ee-e8b7-49db-a675-c0236849895b",
     "showTitle": false,
     "tableResultSettingsMap": {},
     "title": ""
    }
   },
   "source": [
    "### Table 2\n",
    "Energyvalve 3 device data. **Big data** list of timeseries samples for devices. Devices are differentiated by the **device_id** column."
   ]
  },
  {
   "cell_type": "code",
   "metadata": {
    "application/vnd.databricks.v1+cell": {
     "cellMetadata": {
      "byteLimit": 2048000,
      "rowLimit": 10000
     },
     "inputWidgets": {},
     "nuid": "ff67b5b1-266b-4438-a46f-1773314774cd",
     "showTitle": false,
     "tableResultSettingsMap": {},
     "title": ""
    },
    "jupyter": {
     "source_hidden": true
    },
    "ExecuteTime": {
     "end_time": "2025-03-20T08:56:29.438286Z",
     "start_time": "2025-03-20T08:55:36.432422Z"
    }
   },
   "source": [
    "df = spark.read.format(\"deltaSharing\").load(\"config.share#start_hack_2025.start_hack_2025.ev3_device_data\").limit(3000)\n",
    "device_data = df.toPandas()"
   ],
   "outputs": [
    {
     "name": "stderr",
     "output_type": "stream",
     "text": [
      "25/03/20 09:55:50 WARN SparkStringUtils: Truncated the string representation of a plan since it was too large. This behavior can be adjusted by setting 'spark.sql.debug.maxToStringFields'.\n",
      "                                                                                \r"
     ]
    }
   ],
   "execution_count": 2
  },
  {
   "metadata": {
    "ExecuteTime": {
     "end_time": "2025-03-20T08:56:32.330178Z",
     "start_time": "2025-03-20T08:56:32.317344Z"
    }
   },
   "cell_type": "code",
   "source": "device_data.head(10)",
   "outputs": [
    {
     "data": {
      "text/plain": [
       "                              device_id     dataprofile_id  \\\n",
       "0  14e5bc06-9e32-4938-96df-82a070581e7d  energyvalve3/1.11   \n",
       "1  14e5bc06-9e32-4938-96df-82a070581e7d  energyvalve3/1.11   \n",
       "2  15cbf304-2834-4523-81d1-45c0bbc0f849  energyvalve3/1.11   \n",
       "3  15cbf304-2834-4523-81d1-45c0bbc0f849  energyvalve3/1.11   \n",
       "4  14e5bc06-9e32-4938-96df-82a070581e7d  energyvalve3/1.11   \n",
       "5  14e5bc06-9e32-4938-96df-82a070581e7d  energyvalve3/1.11   \n",
       "6  14e5bc06-9e32-4938-96df-82a070581e7d  energyvalve3/1.11   \n",
       "7  14e5bc06-9e32-4938-96df-82a070581e7d  energyvalve3/1.11   \n",
       "8  14e5bc06-9e32-4938-96df-82a070581e7d  energyvalve3/1.11   \n",
       "9  15cbf304-2834-4523-81d1-45c0bbc0f849  energyvalve3/1.11   \n",
       "\n",
       "      cloud_received_time             sample_time  year year_month  \\\n",
       "0 2019-06-09 11:40:34.098 2019-06-09 11:38:32.312  2019     201906   \n",
       "1 2019-06-19 01:18:23.274 2019-06-19 01:17:21.806  2019     201906   \n",
       "2 2019-06-17 05:36:49.933 2019-06-17 05:33:48.073  2019     201906   \n",
       "3 2019-06-17 10:18:08.063 2019-06-17 10:14:02.385  2019     201906   \n",
       "4 2019-06-08 04:22:01.103 2019-06-08 04:19:29.379  2019     201906   \n",
       "5 2019-06-08 10:53:47.489 2019-06-08 10:49:45.524  2019     201906   \n",
       "6 2019-06-27 16:35:49.321 2019-06-27 16:32:26.767  2019     201906   \n",
       "7 2019-06-28 03:46:34.775 2019-06-28 03:42:25.390  2019     201906   \n",
       "8 2019-06-22 22:53:57.217 2019-06-22 22:50:55.169  2019     201906   \n",
       "9 2019-06-18 15:10:53.847 2019-06-18 15:06:21.799  2019     201906   \n",
       "\n",
       "  year_month_day influx_migration_source_filename  T1_remote_K  T2_embeded_K  \\\n",
       "0       20190609                 2019-06-09_09.gz   349.924869    323.425260   \n",
       "1       20190618                 2019-06-18_23.gz   349.945812    323.440885   \n",
       "2       20190617                 2019-06-17_03.gz   351.181414    324.487760   \n",
       "3       20190617                 2019-06-17_08.gz   351.181414    324.503385   \n",
       "4       20190608                 2019-06-08_02.gz   349.935340    323.427865   \n",
       "5       20190608                 2019-06-08_08.gz   349.945812    323.456510   \n",
       "6       20190627                 2019-06-27_14.gz   349.953665    323.487760   \n",
       "7       20190628                 2019-06-28_01.gz   349.961518    323.466927   \n",
       "8       20190622                 2019-06-22_20.gz   349.935340    323.435677   \n",
       "9       20190618                 2019-06-18_13.gz   351.212827    324.534635   \n",
       "\n",
       "   ...  SpDeltaT_applied_K  Error_Status_Cloud  DDC_BUS_Sp_Write  \\\n",
       "0  ...                10.0                 0.0         91.900002   \n",
       "1  ...                 5.0                 0.0         19.700001   \n",
       "2  ...                 5.0                 0.0         31.400000   \n",
       "3  ...                 5.0                 0.0         90.000000   \n",
       "4  ...                 5.0                 0.0         25.500000   \n",
       "5  ...                 5.0                 0.0         24.100000   \n",
       "6  ...                 5.0                 0.0          9.500000   \n",
       "7  ...                 5.0                 4.0          7.900000   \n",
       "8  ...                10.0                 0.0         33.500000   \n",
       "9  ...                10.0                 0.0         82.099998   \n",
       "\n",
       "   dT_Manager_Ste  Active_dT_Manager_total_h   DeltaT_K       DDC_Sp_V  \\\n",
       "0               2                        0.0  26.499609  4.940656e-324   \n",
       "1               2                        0.0  26.504926  4.940656e-324   \n",
       "2               2                        0.0  26.693653   1.361569e-04   \n",
       "3               2                        0.0  26.678028   6.197484e-05   \n",
       "4               2                        0.0  26.507476  4.940656e-324   \n",
       "5               2                        0.0  26.489301  4.940656e-324   \n",
       "6               2                        0.0  26.465905  4.940656e-324   \n",
       "7               2                        0.0  26.494591  4.940656e-324   \n",
       "8               2                        0.0  26.499663  4.940656e-324   \n",
       "9               2                        0.0  26.678192   8.184905e-05   \n",
       "\n",
       "   OperatingHours  Flow_Volume_total_m3  Y3AnalogInputValue  \n",
       "0     2278.438304           9454.135186                 NaN  \n",
       "1     2508.085700          10513.017983                 NaN  \n",
       "2     2484.714193          35993.262013                 NaN  \n",
       "3     2489.384833          36060.931995                 NaN  \n",
       "4     2247.120865           9321.962749                 NaN  \n",
       "5     2253.625341           9350.065914                 NaN  \n",
       "6     2715.337325          11378.038000                 NaN  \n",
       "7     2726.503613          11423.259298                 NaN  \n",
       "8     2601.645109          10900.575603                 NaN  \n",
       "9     2518.257048          36479.243997                 NaN  \n",
       "\n",
       "[10 rows x 38 columns]"
      ],
      "text/html": [
       "<div>\n",
       "<style scoped>\n",
       "    .dataframe tbody tr th:only-of-type {\n",
       "        vertical-align: middle;\n",
       "    }\n",
       "\n",
       "    .dataframe tbody tr th {\n",
       "        vertical-align: top;\n",
       "    }\n",
       "\n",
       "    .dataframe thead th {\n",
       "        text-align: right;\n",
       "    }\n",
       "</style>\n",
       "<table border=\"1\" class=\"dataframe\">\n",
       "  <thead>\n",
       "    <tr style=\"text-align: right;\">\n",
       "      <th></th>\n",
       "      <th>device_id</th>\n",
       "      <th>dataprofile_id</th>\n",
       "      <th>cloud_received_time</th>\n",
       "      <th>sample_time</th>\n",
       "      <th>year</th>\n",
       "      <th>year_month</th>\n",
       "      <th>year_month_day</th>\n",
       "      <th>influx_migration_source_filename</th>\n",
       "      <th>T1_remote_K</th>\n",
       "      <th>T2_embeded_K</th>\n",
       "      <th>...</th>\n",
       "      <th>SpDeltaT_applied_K</th>\n",
       "      <th>Error_Status_Cloud</th>\n",
       "      <th>DDC_BUS_Sp_Write</th>\n",
       "      <th>dT_Manager_Ste</th>\n",
       "      <th>Active_dT_Manager_total_h</th>\n",
       "      <th>DeltaT_K</th>\n",
       "      <th>DDC_Sp_V</th>\n",
       "      <th>OperatingHours</th>\n",
       "      <th>Flow_Volume_total_m3</th>\n",
       "      <th>Y3AnalogInputValue</th>\n",
       "    </tr>\n",
       "  </thead>\n",
       "  <tbody>\n",
       "    <tr>\n",
       "      <th>0</th>\n",
       "      <td>14e5bc06-9e32-4938-96df-82a070581e7d</td>\n",
       "      <td>energyvalve3/1.11</td>\n",
       "      <td>2019-06-09 11:40:34.098</td>\n",
       "      <td>2019-06-09 11:38:32.312</td>\n",
       "      <td>2019</td>\n",
       "      <td>201906</td>\n",
       "      <td>20190609</td>\n",
       "      <td>2019-06-09_09.gz</td>\n",
       "      <td>349.924869</td>\n",
       "      <td>323.425260</td>\n",
       "      <td>...</td>\n",
       "      <td>10.0</td>\n",
       "      <td>0.0</td>\n",
       "      <td>91.900002</td>\n",
       "      <td>2</td>\n",
       "      <td>0.0</td>\n",
       "      <td>26.499609</td>\n",
       "      <td>4.940656e-324</td>\n",
       "      <td>2278.438304</td>\n",
       "      <td>9454.135186</td>\n",
       "      <td>NaN</td>\n",
       "    </tr>\n",
       "    <tr>\n",
       "      <th>1</th>\n",
       "      <td>14e5bc06-9e32-4938-96df-82a070581e7d</td>\n",
       "      <td>energyvalve3/1.11</td>\n",
       "      <td>2019-06-19 01:18:23.274</td>\n",
       "      <td>2019-06-19 01:17:21.806</td>\n",
       "      <td>2019</td>\n",
       "      <td>201906</td>\n",
       "      <td>20190618</td>\n",
       "      <td>2019-06-18_23.gz</td>\n",
       "      <td>349.945812</td>\n",
       "      <td>323.440885</td>\n",
       "      <td>...</td>\n",
       "      <td>5.0</td>\n",
       "      <td>0.0</td>\n",
       "      <td>19.700001</td>\n",
       "      <td>2</td>\n",
       "      <td>0.0</td>\n",
       "      <td>26.504926</td>\n",
       "      <td>4.940656e-324</td>\n",
       "      <td>2508.085700</td>\n",
       "      <td>10513.017983</td>\n",
       "      <td>NaN</td>\n",
       "    </tr>\n",
       "    <tr>\n",
       "      <th>2</th>\n",
       "      <td>15cbf304-2834-4523-81d1-45c0bbc0f849</td>\n",
       "      <td>energyvalve3/1.11</td>\n",
       "      <td>2019-06-17 05:36:49.933</td>\n",
       "      <td>2019-06-17 05:33:48.073</td>\n",
       "      <td>2019</td>\n",
       "      <td>201906</td>\n",
       "      <td>20190617</td>\n",
       "      <td>2019-06-17_03.gz</td>\n",
       "      <td>351.181414</td>\n",
       "      <td>324.487760</td>\n",
       "      <td>...</td>\n",
       "      <td>5.0</td>\n",
       "      <td>0.0</td>\n",
       "      <td>31.400000</td>\n",
       "      <td>2</td>\n",
       "      <td>0.0</td>\n",
       "      <td>26.693653</td>\n",
       "      <td>1.361569e-04</td>\n",
       "      <td>2484.714193</td>\n",
       "      <td>35993.262013</td>\n",
       "      <td>NaN</td>\n",
       "    </tr>\n",
       "    <tr>\n",
       "      <th>3</th>\n",
       "      <td>15cbf304-2834-4523-81d1-45c0bbc0f849</td>\n",
       "      <td>energyvalve3/1.11</td>\n",
       "      <td>2019-06-17 10:18:08.063</td>\n",
       "      <td>2019-06-17 10:14:02.385</td>\n",
       "      <td>2019</td>\n",
       "      <td>201906</td>\n",
       "      <td>20190617</td>\n",
       "      <td>2019-06-17_08.gz</td>\n",
       "      <td>351.181414</td>\n",
       "      <td>324.503385</td>\n",
       "      <td>...</td>\n",
       "      <td>5.0</td>\n",
       "      <td>0.0</td>\n",
       "      <td>90.000000</td>\n",
       "      <td>2</td>\n",
       "      <td>0.0</td>\n",
       "      <td>26.678028</td>\n",
       "      <td>6.197484e-05</td>\n",
       "      <td>2489.384833</td>\n",
       "      <td>36060.931995</td>\n",
       "      <td>NaN</td>\n",
       "    </tr>\n",
       "    <tr>\n",
       "      <th>4</th>\n",
       "      <td>14e5bc06-9e32-4938-96df-82a070581e7d</td>\n",
       "      <td>energyvalve3/1.11</td>\n",
       "      <td>2019-06-08 04:22:01.103</td>\n",
       "      <td>2019-06-08 04:19:29.379</td>\n",
       "      <td>2019</td>\n",
       "      <td>201906</td>\n",
       "      <td>20190608</td>\n",
       "      <td>2019-06-08_02.gz</td>\n",
       "      <td>349.935340</td>\n",
       "      <td>323.427865</td>\n",
       "      <td>...</td>\n",
       "      <td>5.0</td>\n",
       "      <td>0.0</td>\n",
       "      <td>25.500000</td>\n",
       "      <td>2</td>\n",
       "      <td>0.0</td>\n",
       "      <td>26.507476</td>\n",
       "      <td>4.940656e-324</td>\n",
       "      <td>2247.120865</td>\n",
       "      <td>9321.962749</td>\n",
       "      <td>NaN</td>\n",
       "    </tr>\n",
       "    <tr>\n",
       "      <th>5</th>\n",
       "      <td>14e5bc06-9e32-4938-96df-82a070581e7d</td>\n",
       "      <td>energyvalve3/1.11</td>\n",
       "      <td>2019-06-08 10:53:47.489</td>\n",
       "      <td>2019-06-08 10:49:45.524</td>\n",
       "      <td>2019</td>\n",
       "      <td>201906</td>\n",
       "      <td>20190608</td>\n",
       "      <td>2019-06-08_08.gz</td>\n",
       "      <td>349.945812</td>\n",
       "      <td>323.456510</td>\n",
       "      <td>...</td>\n",
       "      <td>5.0</td>\n",
       "      <td>0.0</td>\n",
       "      <td>24.100000</td>\n",
       "      <td>2</td>\n",
       "      <td>0.0</td>\n",
       "      <td>26.489301</td>\n",
       "      <td>4.940656e-324</td>\n",
       "      <td>2253.625341</td>\n",
       "      <td>9350.065914</td>\n",
       "      <td>NaN</td>\n",
       "    </tr>\n",
       "    <tr>\n",
       "      <th>6</th>\n",
       "      <td>14e5bc06-9e32-4938-96df-82a070581e7d</td>\n",
       "      <td>energyvalve3/1.11</td>\n",
       "      <td>2019-06-27 16:35:49.321</td>\n",
       "      <td>2019-06-27 16:32:26.767</td>\n",
       "      <td>2019</td>\n",
       "      <td>201906</td>\n",
       "      <td>20190627</td>\n",
       "      <td>2019-06-27_14.gz</td>\n",
       "      <td>349.953665</td>\n",
       "      <td>323.487760</td>\n",
       "      <td>...</td>\n",
       "      <td>5.0</td>\n",
       "      <td>0.0</td>\n",
       "      <td>9.500000</td>\n",
       "      <td>2</td>\n",
       "      <td>0.0</td>\n",
       "      <td>26.465905</td>\n",
       "      <td>4.940656e-324</td>\n",
       "      <td>2715.337325</td>\n",
       "      <td>11378.038000</td>\n",
       "      <td>NaN</td>\n",
       "    </tr>\n",
       "    <tr>\n",
       "      <th>7</th>\n",
       "      <td>14e5bc06-9e32-4938-96df-82a070581e7d</td>\n",
       "      <td>energyvalve3/1.11</td>\n",
       "      <td>2019-06-28 03:46:34.775</td>\n",
       "      <td>2019-06-28 03:42:25.390</td>\n",
       "      <td>2019</td>\n",
       "      <td>201906</td>\n",
       "      <td>20190628</td>\n",
       "      <td>2019-06-28_01.gz</td>\n",
       "      <td>349.961518</td>\n",
       "      <td>323.466927</td>\n",
       "      <td>...</td>\n",
       "      <td>5.0</td>\n",
       "      <td>4.0</td>\n",
       "      <td>7.900000</td>\n",
       "      <td>2</td>\n",
       "      <td>0.0</td>\n",
       "      <td>26.494591</td>\n",
       "      <td>4.940656e-324</td>\n",
       "      <td>2726.503613</td>\n",
       "      <td>11423.259298</td>\n",
       "      <td>NaN</td>\n",
       "    </tr>\n",
       "    <tr>\n",
       "      <th>8</th>\n",
       "      <td>14e5bc06-9e32-4938-96df-82a070581e7d</td>\n",
       "      <td>energyvalve3/1.11</td>\n",
       "      <td>2019-06-22 22:53:57.217</td>\n",
       "      <td>2019-06-22 22:50:55.169</td>\n",
       "      <td>2019</td>\n",
       "      <td>201906</td>\n",
       "      <td>20190622</td>\n",
       "      <td>2019-06-22_20.gz</td>\n",
       "      <td>349.935340</td>\n",
       "      <td>323.435677</td>\n",
       "      <td>...</td>\n",
       "      <td>10.0</td>\n",
       "      <td>0.0</td>\n",
       "      <td>33.500000</td>\n",
       "      <td>2</td>\n",
       "      <td>0.0</td>\n",
       "      <td>26.499663</td>\n",
       "      <td>4.940656e-324</td>\n",
       "      <td>2601.645109</td>\n",
       "      <td>10900.575603</td>\n",
       "      <td>NaN</td>\n",
       "    </tr>\n",
       "    <tr>\n",
       "      <th>9</th>\n",
       "      <td>15cbf304-2834-4523-81d1-45c0bbc0f849</td>\n",
       "      <td>energyvalve3/1.11</td>\n",
       "      <td>2019-06-18 15:10:53.847</td>\n",
       "      <td>2019-06-18 15:06:21.799</td>\n",
       "      <td>2019</td>\n",
       "      <td>201906</td>\n",
       "      <td>20190618</td>\n",
       "      <td>2019-06-18_13.gz</td>\n",
       "      <td>351.212827</td>\n",
       "      <td>324.534635</td>\n",
       "      <td>...</td>\n",
       "      <td>10.0</td>\n",
       "      <td>0.0</td>\n",
       "      <td>82.099998</td>\n",
       "      <td>2</td>\n",
       "      <td>0.0</td>\n",
       "      <td>26.678192</td>\n",
       "      <td>8.184905e-05</td>\n",
       "      <td>2518.257048</td>\n",
       "      <td>36479.243997</td>\n",
       "      <td>NaN</td>\n",
       "    </tr>\n",
       "  </tbody>\n",
       "</table>\n",
       "<p>10 rows × 38 columns</p>\n",
       "</div>"
      ]
     },
     "execution_count": 3,
     "metadata": {},
     "output_type": "execute_result"
    }
   ],
   "execution_count": 3
  },
  {
   "metadata": {
    "ExecuteTime": {
     "end_time": "2025-03-20T08:56:51.442565Z",
     "start_time": "2025-03-20T08:56:51.430718Z"
    }
   },
   "cell_type": "code",
   "source": "device_data[\"device_id\"].unique()",
   "outputs": [
    {
     "data": {
      "text/plain": [
       "array(['14e5bc06-9e32-4938-96df-82a070581e7d',\n",
       "       '15cbf304-2834-4523-81d1-45c0bbc0f849'], dtype=object)"
      ]
     },
     "execution_count": 5,
     "metadata": {},
     "output_type": "execute_result"
    }
   ],
   "execution_count": 5
  },
  {
   "metadata": {
    "ExecuteTime": {
     "end_time": "2025-03-20T08:59:56.663892Z",
     "start_time": "2025-03-20T08:58:51.941323Z"
    }
   },
   "cell_type": "code",
   "source": [
    "df = spark.read.format(\"deltaSharing\").load(\"config.share#start_hack_2025.start_hack_2025.ev3_device_data\")\n",
    "\n",
    "# Get row count efficiently\n",
    "row_count = df.count()\n",
    "print(f\"Total rows in dataset: {row_count}\")"
   ],
   "outputs": [
    {
     "name": "stderr",
     "output_type": "stream",
     "text": [
      "[Stage 25:=====================================================>(849 + 1) / 850]\r"
     ]
    },
    {
     "name": "stdout",
     "output_type": "stream",
     "text": [
      "Total rows in dataset: 1464878868\n"
     ]
    },
    {
     "name": "stderr",
     "output_type": "stream",
     "text": [
      "                                                                                \r"
     ]
    }
   ],
   "execution_count": 6
  },
  {
   "metadata": {
    "ExecuteTime": {
     "end_time": "2025-03-20T09:07:33.001844Z",
     "start_time": "2025-03-20T09:03:03.443415Z"
    }
   },
   "cell_type": "code",
   "source": [
    "unique_device_ids = df.select(\"device_id\").distinct()\n",
    "unique_device_ids.show(10)\n"
   ],
   "outputs": [
    {
     "name": "stderr",
     "output_type": "stream",
     "text": [
      "                                                                                \r"
     ]
    },
    {
     "name": "stdout",
     "output_type": "stream",
     "text": [
      "+--------------------+\n",
      "|           device_id|\n",
      "+--------------------+\n",
      "|26245f9f-8f9f-41b...|\n",
      "|25ff3a33-6eba-423...|\n",
      "|5dd3b941-aab6-44d...|\n",
      "|96e6013a-9e90-4db...|\n",
      "|968cc402-586d-4d4...|\n",
      "|25f08a63-be6a-430...|\n",
      "|c6569cbb-ab19-41b...|\n",
      "|277ebacd-749c-4f9...|\n",
      "|c6893e87-1c36-4dd...|\n",
      "|1cd9e95f-7338-4b7...|\n",
      "+--------------------+\n",
      "only showing top 10 rows\n",
      "\n"
     ]
    }
   ],
   "execution_count": 7
  },
  {
   "metadata": {
    "ExecuteTime": {
     "end_time": "2025-03-20T09:14:56.252818Z",
     "start_time": "2025-03-20T09:08:47.656121Z"
    }
   },
   "cell_type": "code",
   "source": "unique_device_ids.count()",
   "outputs": [
    {
     "name": "stderr",
     "output_type": "stream",
     "text": [
      "                                                                                \r"
     ]
    },
    {
     "data": {
      "text/plain": [
       "52424"
      ]
     },
     "execution_count": 12,
     "metadata": {},
     "output_type": "execute_result"
    }
   ],
   "execution_count": 12
  },
  {
   "metadata": {
    "ExecuteTime": {
     "end_time": "2025-03-20T09:22:16.844170Z",
     "start_time": "2025-03-20T09:17:33.824189Z"
    }
   },
   "cell_type": "code",
   "source": [
    "# output first 100 device ids as list\n",
    "device_id_list = unique_device_ids.limit(100).toPandas()[\"device_id\"].to_list()"
   ],
   "outputs": [
    {
     "name": "stderr",
     "output_type": "stream",
     "text": [
      "                                                                                \r"
     ]
    }
   ],
   "execution_count": 13
  },
  {
   "metadata": {
    "ExecuteTime": {
     "end_time": "2025-03-20T09:23:00.990966Z",
     "start_time": "2025-03-20T09:23:00.977404Z"
    }
   },
   "cell_type": "code",
   "source": "device_id_list",
   "outputs": [
    {
     "data": {
      "text/plain": [
       "['26245f9f-8f9f-41b8-90bc-fa47640395f2',\n",
       " '25ff3a33-6eba-4238-9b8f-c0dea3f2e2c3',\n",
       " '5dd3b941-aab6-44de-bdb6-b5e82026cc54',\n",
       " '96e6013a-9e90-4dbd-9070-d6b4732f42b8',\n",
       " '968cc402-586d-4d47-ba8b-97c065762d0d',\n",
       " '25f08a63-be6a-430f-aa10-1f80af9450f7',\n",
       " 'c6569cbb-ab19-41bd-97b8-4a60651ab3b4',\n",
       " '277ebacd-749c-4f9c-9a6f-43b871ec1e5d',\n",
       " 'c6893e87-1c36-4dd5-a412-42fe04dd2054',\n",
       " '1cd9e95f-7338-4b7a-ade9-07d6d10d6fe9',\n",
       " '1d0d2869-41d3-4bbc-aa6a-6bb5b3b7e958',\n",
       " '1d3f72a5-6b6f-48aa-85b6-099ee2f6521d',\n",
       " 'c9be13ef-db36-4a8e-ba91-87d226345cee',\n",
       " '1c3b788f-55f3-4be4-ba52-0a9c63014836',\n",
       " 'bdfb474b-db7c-4ee9-8c06-dfe29a870e3f',\n",
       " '1c76dc41-d7c4-4c34-94e4-9d4285c4cbfe',\n",
       " 'f2b9c3cd-04de-4c7d-a46b-f1d60eaac900',\n",
       " 'b277316c-1e6e-4893-9206-3c580ac1e677',\n",
       " 'e2c21321-36cb-43bc-a831-a5c390aa8a3c',\n",
       " 'dcab0762-b0d9-4b86-8038-2c8cfc5f20be',\n",
       " 'e2aef88e-ca82-4be1-a68a-39a4634fee57',\n",
       " 'a196e561-3f4a-4031-b1f2-3bc96a39cf87',\n",
       " 'f9f5777e-985f-4642-9bd6-869bf5fa7b54',\n",
       " 'b2cd6c04-53ec-4265-83c2-304b8feef4ae',\n",
       " 'db693a87-a33a-4757-8af8-0588233823d3',\n",
       " 'f8f8b25b-9af8-4c08-8a0c-3fcc4df82727',\n",
       " '509ee4ad-a2ae-48b1-bebb-e3df49da645a',\n",
       " '50b6259c-c98b-4ce3-b4b0-8e9988cc6e64',\n",
       " '4a3cd440-7a55-4cae-99c1-4a55f5dc265b',\n",
       " 'f5e85b70-ed6e-4404-b9b8-4ff66bbf98b1',\n",
       " '7e0efd40-7ccb-402e-b736-5f18a8690987',\n",
       " 'f436ea42-644a-4cf1-b3cc-d5bb5340c920',\n",
       " 'b47efbc5-af61-468c-8415-eede982661a6',\n",
       " '7e637e2e-bb9b-43b5-9fa0-90541f8176af',\n",
       " 'f5e7db86-1490-48d4-a419-3e96f0d6cde5',\n",
       " '7baa9b48-ca1a-428c-89d8-38acb02d8b19',\n",
       " '154c4794-3856-4302-930d-3721e22f806b',\n",
       " 'b47b4cfe-34b8-4ea0-9f53-889896c7643c',\n",
       " 'b42aa654-3614-4b6e-b9f0-5350c6342d0b',\n",
       " 'f42a563f-56fb-474c-a37b-52466d2854ab',\n",
       " '7b056817-a5c0-4ce2-b5d1-6ec060b7a6fe',\n",
       " 'f58de9b9-2395-446d-bfb4-43bf23b24589',\n",
       " 'ca81390e-8e40-4f84-8823-d9f72e5ef9f1',\n",
       " '44d2b1db-548b-4d2d-9253-e5c8e66a35e6',\n",
       " 'edfa4049-caa6-4706-964a-2db4bf4b2fa3',\n",
       " 'd427fa6a-a1c5-4a55-870a-d4c706e97af2',\n",
       " 'b7904af5-0ff2-4ee8-98b1-b2c63071a2f1',\n",
       " 'b8537f7c-440f-4e91-9267-29088647f235',\n",
       " '4445c4e3-9287-4dd4-8ee8-197fe08fb787',\n",
       " '8efaa357-f444-4f57-8c16-9932e9586c99',\n",
       " '90ce2e32-b4f7-43e5-9946-3221ce792e64',\n",
       " '8f40cbf8-bc2c-4713-adaa-61cd8731514d',\n",
       " 'b1b9977f-84e3-4583-91d3-fdcfafaa25eb',\n",
       " '69363abf-b8cd-4ef6-9f85-1a34ab174e32',\n",
       " '3b51ed98-e0ee-4c4c-84bd-081a557deec8',\n",
       " '84d5def1-33c3-427b-98ec-5214c12df4b9',\n",
       " '3c0e2712-ab4c-46b4-823e-bcabe6a98141',\n",
       " '9dc2fedc-a1eb-42ad-9635-ee9472f083e7',\n",
       " '9944c91c-346e-4568-a912-d3b977705ee6',\n",
       " '83c1e3dd-d35a-44c2-9436-0e7ce95b802f',\n",
       " '6ac761d1-6081-42d2-b92f-5b5d896fa886',\n",
       " '3d32e5f2-2c65-40f5-bd7a-850df96ed5ec',\n",
       " '843a1bf0-b66e-4317-80ce-a74be097f515',\n",
       " 'eae041f0-536b-4f9a-8a17-b42b8dcf8686',\n",
       " 'b0b16562-df9d-4f1d-971a-d0cf86169292',\n",
       " 'eba83b6b-b98f-4388-af04-26cc556f6453',\n",
       " 'eb4064fc-531a-4642-9a6a-53e12d302157',\n",
       " '0df6e1fb-f7a0-4412-83d6-b8013fa7c4a7',\n",
       " 'd5982297-3e61-4b45-b40f-7bbcb72c976f',\n",
       " '3949c3c1-94d3-4600-bdac-a8bd34cbd483',\n",
       " '37dbf169-dd20-4161-a9ef-1540636818c7',\n",
       " '0fccd4a0-a11d-40f0-a6f5-0762664f424d',\n",
       " '73ec993f-14a1-495e-bf7c-2f49a0ecede6',\n",
       " 'fd1497cd-ef6c-499a-b3a4-992e21a418b7',\n",
       " '75452182-91fe-4c41-a81d-03c49dbe6793',\n",
       " 'c81038fb-450e-4160-a097-aff368f1119b',\n",
       " '74471ab8-0527-4611-b5d1-e22183269fd7',\n",
       " 'fe152576-14f0-4198-8e36-fe1d0abddce3',\n",
       " '2021a494-7f52-4e04-99b1-861cd61e0a10',\n",
       " '5258b69b-c282-411c-be30-a1ae38b2d498',\n",
       " '21281d3c-2283-492d-9fc5-5f3591996856',\n",
       " '526013e7-e3ad-49e6-a30f-6d458f851b2d',\n",
       " '35491907-17c8-46bd-b0ec-cbc8d6d626ea',\n",
       " 'fff0df7f-8856-4054-8103-2e4b33423af6',\n",
       " '33e8b77b-5c1c-42cb-a2fb-93bdf6e08eb4',\n",
       " '830bdd9e-d05c-42f9-bb13-346dea34bb1f',\n",
       " '49c15030-1403-4edd-880d-b011c330020a',\n",
       " '539c36bf-5dd9-4fee-90b3-7df08d75a1bc',\n",
       " 'f1e87ad9-7c1b-4a5c-9e78-976152fcb186',\n",
       " '13105404-7f2b-47ed-be8d-efb5a6c3c571',\n",
       " 'ccc3f70f-ec34-4390-ab9d-6b5ca5136773',\n",
       " 'fa1dccea-819e-4bbb-9ac5-0f6adea99515',\n",
       " 'a5b32425-b961-4f31-9754-262094717342',\n",
       " 'a65c0a1d-12e9-44f8-a154-bbbbde49c3c2',\n",
       " '3e6d4b5b-b5a8-4d66-ae2b-df70b0da7652',\n",
       " '2f111380-509e-48ea-829f-0b9589ac994f',\n",
       " 'fbaeba5b-89fd-4f79-a785-ba8befb15b6b',\n",
       " 'fb4cf03c-aaf6-40e8-a7fa-e13a7a5b82ec',\n",
       " '41e6641e-96d0-41fa-81e5-e1e4069b41f7',\n",
       " '2e94a4b6-33e0-4c7a-938b-435e7423f032']"
      ]
     },
     "execution_count": 14,
     "metadata": {},
     "output_type": "execute_result"
    }
   ],
   "execution_count": 14
  },
  {
   "metadata": {
    "ExecuteTime": {
     "end_time": "2025-03-19T21:41:55.000820Z",
     "start_time": "2025-03-19T21:41:54.991521Z"
    }
   },
   "cell_type": "code",
   "source": [
    "x = dataframe[\"name\"].to_list()\n",
    "x.sort()\n",
    "x\n"
   ],
   "outputs": [
    {
     "data": {
      "text/plain": [
       "['AbsFlow_Fb_m3s',\n",
       " 'AbsPower_Fb_W',\n",
       " 'Act_Dir_Chngs_Counts',\n",
       " 'Act_End_Hit_Counts',\n",
       " 'Act_total_travel_fraction',\n",
       " 'Active_Time_h',\n",
       " 'Active_dT_Manager_total_h',\n",
       " 'CloudLiveHours',\n",
       " 'ControlMode_Write',\n",
       " 'Cooling_E_J',\n",
       " 'DDC_BUS_Sp_Write',\n",
       " 'DDC_Sp_Rel',\n",
       " 'DDC_Sp_V',\n",
       " 'DN_Selection_Write',\n",
       " 'DN_Size',\n",
       " 'DeltaT_K',\n",
       " 'DeltaT_Limitation_Write',\n",
       " 'Error_Status_Cloud',\n",
       " 'Flow_Volume_Cooling_total_m3',\n",
       " 'Flow_Volume_Heating_total_m3',\n",
       " 'Flow_Volume_total_m3',\n",
       " 'Full_Load_h',\n",
       " 'Glycol_Concentration_Rel',\n",
       " 'Heating_E_J',\n",
       " 'InstallationPosition_Write',\n",
       " 'LoopSim_En_B',\n",
       " 'Lower_Control_Band_4_Flow',\n",
       " 'OpMode_Err_Override_included_raw_value',\n",
       " 'OperatingHours',\n",
       " 'Operating_Time_h_Research',\n",
       " 'Override_Write',\n",
       " 'Part_Load_h',\n",
       " 'Pmax_Rel_Write',\n",
       " 'RelFlow_Fb_Rel2Vmax',\n",
       " 'RelPos_Fb',\n",
       " 'RelPos_Sp',\n",
       " 'RelPower_Fb_Rel2Pmax',\n",
       " 'Sequence_Ste',\n",
       " 'SpDeltaT_K_Write',\n",
       " 'SpDeltaT_applied_K',\n",
       " 'SpFlow_DeltaT_lmin_Write',\n",
       " 'SpSource_Write',\n",
       " 'Standby_dT_Manager_total_h',\n",
       " 'Start_And_Stop_Ratio_Rel',\n",
       " 'Steady_State_B',\n",
       " 'T1_remote_K',\n",
       " 'T2_embeded_K',\n",
       " 'Upper_Control_Band_4_Flow',\n",
       " 'V_Fb_Rel_2_Vnom',\n",
       " 'V_Sp_Rel_2_Vnom',\n",
       " 'ValveType',\n",
       " 'Vmax_Rel_Write',\n",
       " 'Vmin_Ctrl_En_Write',\n",
       " 'dT_Manager_Ste',\n",
       " 'dT_Manager_TurnedOff_total_h',\n",
       " 'dT_avg_last_month_K',\n",
       " 'dT_lower_dBLim_K',\n",
       " 'dT_movavg_1h1Update_K',\n",
       " 'dT_upper_dBLim_K']"
      ]
     },
     "execution_count": 29,
     "metadata": {},
     "output_type": "execute_result"
    }
   ],
   "execution_count": 29
  },
  {
   "metadata": {
    "ExecuteTime": {
     "end_time": "2025-03-19T21:42:33.058476Z",
     "start_time": "2025-03-19T21:42:33.053785Z"
    }
   },
   "cell_type": "code",
   "source": [
    "b = list(device_data.columns)\n",
    "b.sort()\n",
    "b"
   ],
   "outputs": [
    {
     "data": {
      "text/plain": [
       "['AbsFlow_Fb_m3s',\n",
       " 'AbsPower_Fb_W',\n",
       " 'Active_dT_Manager_total_h',\n",
       " 'ControlMode_Write',\n",
       " 'Cooling_E_J',\n",
       " 'DDC_BUS_Sp_Write',\n",
       " 'DDC_Sp_Rel',\n",
       " 'DDC_Sp_V',\n",
       " 'DN_Size',\n",
       " 'DeltaT_K',\n",
       " 'DeltaT_Limitation_Write',\n",
       " 'Error_Status_Cloud',\n",
       " 'Flow_Volume_total_m3',\n",
       " 'Glycol_Concentration_Rel',\n",
       " 'Heating_E_J',\n",
       " 'InstallationPosition_Write',\n",
       " 'OperatingHours',\n",
       " 'Override_Write',\n",
       " 'Pmax_Rel_Write',\n",
       " 'RelFlow_Fb_Rel2Vmax',\n",
       " 'RelPos_Fb',\n",
       " 'RelPower_Fb_Rel2Pmax',\n",
       " 'SpDeltaT_K_Write',\n",
       " 'SpDeltaT_applied_K',\n",
       " 'SpFlow_DeltaT_lmin_Write',\n",
       " 'T1_remote_K',\n",
       " 'T2_embeded_K',\n",
       " 'Vmax_Rel_Write',\n",
       " 'Y3AnalogInputValue',\n",
       " 'cloud_received_time',\n",
       " 'dT_Manager_Ste',\n",
       " 'dataprofile_id',\n",
       " 'device_id',\n",
       " 'influx_migration_source_filename',\n",
       " 'sample_time',\n",
       " 'year',\n",
       " 'year_month',\n",
       " 'year_month_day']"
      ]
     },
     "execution_count": 32,
     "metadata": {},
     "output_type": "execute_result"
    }
   ],
   "execution_count": 32
  },
  {
   "metadata": {
    "ExecuteTime": {
     "end_time": "2025-03-19T21:43:20.717274Z",
     "start_time": "2025-03-19T21:43:20.711760Z"
    }
   },
   "cell_type": "code",
   "source": [
    "# print all columns that are only in x\n",
    "set(x) - set(b)"
   ],
   "outputs": [
    {
     "data": {
      "text/plain": [
       "{'Act_Dir_Chngs_Counts',\n",
       " 'Act_End_Hit_Counts',\n",
       " 'Act_total_travel_fraction',\n",
       " 'Active_Time_h',\n",
       " 'CloudLiveHours',\n",
       " 'DN_Selection_Write',\n",
       " 'Flow_Volume_Cooling_total_m3',\n",
       " 'Flow_Volume_Heating_total_m3',\n",
       " 'Full_Load_h',\n",
       " 'LoopSim_En_B',\n",
       " 'Lower_Control_Band_4_Flow',\n",
       " 'OpMode_Err_Override_included_raw_value',\n",
       " 'Operating_Time_h_Research',\n",
       " 'Part_Load_h',\n",
       " 'RelPos_Sp',\n",
       " 'Sequence_Ste',\n",
       " 'SpSource_Write',\n",
       " 'Standby_dT_Manager_total_h',\n",
       " 'Start_And_Stop_Ratio_Rel',\n",
       " 'Steady_State_B',\n",
       " 'Upper_Control_Band_4_Flow',\n",
       " 'V_Fb_Rel_2_Vnom',\n",
       " 'V_Sp_Rel_2_Vnom',\n",
       " 'ValveType',\n",
       " 'Vmin_Ctrl_En_Write',\n",
       " 'dT_Manager_TurnedOff_total_h',\n",
       " 'dT_avg_last_month_K',\n",
       " 'dT_lower_dBLim_K',\n",
       " 'dT_movavg_1h1Update_K',\n",
       " 'dT_upper_dBLim_K'}"
      ]
     },
     "execution_count": 35,
     "metadata": {},
     "output_type": "execute_result"
    }
   ],
   "execution_count": 35
  },
  {
   "metadata": {
    "ExecuteTime": {
     "end_time": "2025-03-19T21:43:41.555638Z",
     "start_time": "2025-03-19T21:43:41.551048Z"
    }
   },
   "cell_type": "code",
   "source": [
    "# print all columns that are only in b\n",
    "set(b) - set(x)"
   ],
   "outputs": [
    {
     "data": {
      "text/plain": [
       "{'Y3AnalogInputValue',\n",
       " 'cloud_received_time',\n",
       " 'dataprofile_id',\n",
       " 'device_id',\n",
       " 'influx_migration_source_filename',\n",
       " 'sample_time',\n",
       " 'year',\n",
       " 'year_month',\n",
       " 'year_month_day'}"
      ]
     },
     "execution_count": 36,
     "metadata": {},
     "output_type": "execute_result"
    }
   ],
   "execution_count": 36
  },
  {
   "cell_type": "markdown",
   "metadata": {},
   "source": [
    "### Plot\n",
    "Heat Exchanger Characteristic"
   ]
  },
  {
   "cell_type": "code",
   "metadata": {
    "application/vnd.databricks.v1+cell": {
     "cellMetadata": {
      "byteLimit": 2048000,
      "rowLimit": 10000
     },
     "inputWidgets": {},
     "nuid": "a10e495f-7c0b-4e02-b148-a59d7219cc31",
     "showTitle": false,
     "tableResultSettingsMap": {},
     "title": ""
    },
    "jupyter": {
     "source_hidden": true
    },
    "ExecuteTime": {
     "end_time": "2025-03-20T12:01:54.681321Z",
     "start_time": "2025-03-20T12:00:47.223943Z"
    }
   },
   "source": [
    "from pyspark.sql.functions import col\n",
    "import matplotlib.pyplot as plt\n",
    "\n",
    "device_id = \"1a9da8fa-6fa8-49f3-8aaa-420b34eefe57\"\n",
    "year_month = \"202103\"\n",
    "x = \"AbsFlow_Fb_m3s\"\n",
    "y = \"AbsPower_Fb_W\"\n",
    "df_data = spark.read.format(\"deltaSharing\").load(\"config.share#start_hack_2025.start_hack_2025.ev3_device_data\").filter((col(\"device_id\") == device_id) & (col(\"year_month\") == year_month)).toPandas()\n",
    "year_month = year_month[:4] + '-' + year_month[4:]\n",
    "plt.scatter(df_data[x], df_data[y])\n",
    "plt.xlabel(x)\n",
    "plt.ylabel(y)\n",
    "plt.title(f\"Heat Exchanger Measurments ({year_month}) \\n Device ID: {device_id}\")\n",
    "plt.show()"
   ],
   "outputs": [
    {
     "name": "stderr",
     "output_type": "stream",
     "text": [
      "                                                                                \r"
     ]
    },
    {
     "data": {
      "text/plain": [
       "<Figure size 640x480 with 1 Axes>"
      ],
      "image/png": "[encoded data removed]"
     },
     "metadata": {},
     "output_type": "display_data"
    }
   ],
   "execution_count": 17
  },
  {
   "cell_type": "markdown",
   "metadata": {
    "application/vnd.databricks.v1+cell": {
     "cellMetadata": {},
     "inputWidgets": {},
     "nuid": "d3e14ff0-96e1-4a81-8695-48b0209be9fc",
     "showTitle": false,
     "tableResultSettingsMap": {},
     "title": ""
    }
   },
   "source": [
    "### Table 3\n",
    "Cloud api logs describing interactions with our cloud."
   ]
  },
  {
   "cell_type": "code",
   "metadata": {
    "application/vnd.databricks.v1+cell": {
     "cellMetadata": {
      "byteLimit": 2048000,
      "rowLimit": 10000
     },
     "inputWidgets": {},
     "nuid": "4a3e8aea-23ef-4edf-b9be-435a89d82fba",
     "showTitle": false,
     "tableResultSettingsMap": {},
     "title": ""
    },
    "jupyter": {
     "source_hidden": true
    },
    "ExecuteTime": {
     "end_time": "2025-03-19T21:08:19.613209Z",
     "start_time": "2025-03-19T21:07:47.959089Z"
    }
   },
   "source": [
    "df = spark.read.format(\"deltaSharing\").load(\"config.share#start_hack_2025.start_hack_2025.cc_api_logs\").limit(3)\n",
    "df.toPandas()"
   ],
   "outputs": [
    {
     "name": "stderr",
     "output_type": "stream",
     "text": [
      "                                                                                \r"
     ]
    },
    {
     "data": {
      "text/plain": [
       "      api                        class    cloudEnv   component  \\\n",
       "0  device                         None  production  core-cloud   \n",
       "1  device  DeviceApiV2DeviceController  production  core-cloud   \n",
       "2  device  DeviceApiV2DeviceController  production  core-cloud   \n",
       "\n",
       "                              correlationId  developmentDevice  durationInMs  \\\n",
       "0  CCB:9ae22714-7c8c-4490-8f07-d5fd7793b6cf                NaN           119   \n",
       "1  CCB:fc660e65-b629-4ca1-9adc-ac91cd3fb090                NaN            24   \n",
       "2  CCB:6cb197c0-6be1-4e49-82f4-90539ab6ded2                NaN            23   \n",
       "\n",
       "                                                host  httpStatus      logEnv  \\\n",
       "0  logsearch-lifeline-agent-stateful-0.logsearch-...         401  production   \n",
       "1  logsearch-lifeline-agent-stateful-0.logsearch-...         200  production   \n",
       "2  logsearch-lifeline-agent-stateful-0.logsearch-...         200  production   \n",
       "\n",
       "   ...                             principal  \\\n",
       "0  ...                                  None   \n",
       "1  ...  4d284824-f2dc-4e47-9641-9c4bd115fbab   \n",
       "2  ...  d68a34f0-379c-4534-84e9-0278b8539c11   \n",
       "\n",
       "                          requestId  \\\n",
       "0  a3818cc09b0af2d7c72134ca5fa93eda   \n",
       "1  db0062793fb9ee45787e4588891f15dc   \n",
       "2  93df335640a41a3e4b1ecc00a4e58304   \n",
       "\n",
       "                                          requestURI  \\\n",
       "0                           /device-api/registration   \n",
       "1  /device-api/v2/devices/8acbcbb2-0649-429b-b09b...   \n",
       "2  /device-api/v2/devices/fec4211e-1d9a-41c8-820d...   \n",
       "\n",
       "                                          requestURL  \\\n",
       "0  https://connect.g2bcc.com/device-api/registration   \n",
       "1  https://connect.g2bcc.com/device-api/v2/device...   \n",
       "2  https://connect.g2bcc.com/device-api/v2/device...   \n",
       "\n",
       "                                           signature  \\\n",
       "0                                               None   \n",
       "1  DeviceApiV2DeviceController.getTaskList(String...   \n",
       "2  DeviceApiV2DeviceController.getTaskList(String...   \n",
       "\n",
       "                                       signatureFull    signatureId  \\\n",
       "0                                               None           None   \n",
       "1  ch.belimo.cloud.server.deviceapi.v2.DeviceApiV...  111elm3x3ote5   \n",
       "2  ch.belimo.cloud.server.deviceapi.v2.DeviceApiV...  111elm3x3ote5   \n",
       "\n",
       "               threadName                                          userAgent  \\\n",
       "0   http-nio-8080-exec-29  sharedlogic/3.22.5-0 (bsp 10.8.0-0, model 1.2....   \n",
       "1   http-nio-8080-exec-93                                                      \n",
       "2  http-nio-8080-exec-146                                                      \n",
       "\n",
       "                timestamp  \n",
       "0 2025-01-16 08:45:23.365  \n",
       "1 2025-01-16 08:45:23.450  \n",
       "2 2025-01-16 08:45:23.452  \n",
       "\n",
       "[3 rows x 21 columns]"
      ],
      "text/html": [
       "<div>\n",
       "<style scoped>\n",
       "    .dataframe tbody tr th:only-of-type {\n",
       "        vertical-align: middle;\n",
       "    }\n",
       "\n",
       "    .dataframe tbody tr th {\n",
       "        vertical-align: top;\n",
       "    }\n",
       "\n",
       "    .dataframe thead th {\n",
       "        text-align: right;\n",
       "    }\n",
       "</style>\n",
       "<table border=\"1\" class=\"dataframe\">\n",
       "  <thead>\n",
       "    <tr style=\"text-align: right;\">\n",
       "      <th></th>\n",
       "      <th>api</th>\n",
       "      <th>class</th>\n",
       "      <th>cloudEnv</th>\n",
       "      <th>component</th>\n",
       "      <th>correlationId</th>\n",
       "      <th>developmentDevice</th>\n",
       "      <th>durationInMs</th>\n",
       "      <th>host</th>\n",
       "      <th>httpStatus</th>\n",
       "      <th>logEnv</th>\n",
       "      <th>...</th>\n",
       "      <th>principal</th>\n",
       "      <th>requestId</th>\n",
       "      <th>requestURI</th>\n",
       "      <th>requestURL</th>\n",
       "      <th>signature</th>\n",
       "      <th>signatureFull</th>\n",
       "      <th>signatureId</th>\n",
       "      <th>threadName</th>\n",
       "      <th>userAgent</th>\n",
       "      <th>timestamp</th>\n",
       "    </tr>\n",
       "  </thead>\n",
       "  <tbody>\n",
       "    <tr>\n",
       "      <th>0</th>\n",
       "      <td>device</td>\n",
       "      <td>None</td>\n",
       "      <td>production</td>\n",
       "      <td>core-cloud</td>\n",
       "      <td>CCB:9ae22714-7c8c-4490-8f07-d5fd7793b6cf</td>\n",
       "      <td>NaN</td>\n",
       "      <td>119</td>\n",
       "      <td>logsearch-lifeline-agent-stateful-0.logsearch-...</td>\n",
       "      <td>401</td>\n",
       "      <td>production</td>\n",
       "      <td>...</td>\n",
       "      <td>None</td>\n",
       "      <td>a3818cc09b0af2d7c72134ca5fa93eda</td>\n",
       "      <td>/device-api/registration</td>\n",
       "      <td>https://connect.g2bcc.com/device-api/registration</td>\n",
       "      <td>None</td>\n",
       "      <td>None</td>\n",
       "      <td>None</td>\n",
       "      <td>http-nio-8080-exec-29</td>\n",
       "      <td>sharedlogic/3.22.5-0 (bsp 10.8.0-0, model 1.2....</td>\n",
       "      <td>2025-01-16 08:45:23.365</td>\n",
       "    </tr>\n",
       "    <tr>\n",
       "      <th>1</th>\n",
       "      <td>device</td>\n",
       "      <td>DeviceApiV2DeviceController</td>\n",
       "      <td>production</td>\n",
       "      <td>core-cloud</td>\n",
       "      <td>CCB:fc660e65-b629-4ca1-9adc-ac91cd3fb090</td>\n",
       "      <td>NaN</td>\n",
       "      <td>24</td>\n",
       "      <td>logsearch-lifeline-agent-stateful-0.logsearch-...</td>\n",
       "      <td>200</td>\n",
       "      <td>production</td>\n",
       "      <td>...</td>\n",
       "      <td>4d284824-f2dc-4e47-9641-9c4bd115fbab</td>\n",
       "      <td>db0062793fb9ee45787e4588891f15dc</td>\n",
       "      <td>/device-api/v2/devices/8acbcbb2-0649-429b-b09b...</td>\n",
       "      <td>https://connect.g2bcc.com/device-api/v2/device...</td>\n",
       "      <td>DeviceApiV2DeviceController.getTaskList(String...</td>\n",
       "      <td>ch.belimo.cloud.server.deviceapi.v2.DeviceApiV...</td>\n",
       "      <td>111elm3x3ote5</td>\n",
       "      <td>http-nio-8080-exec-93</td>\n",
       "      <td></td>\n",
       "      <td>2025-01-16 08:45:23.450</td>\n",
       "    </tr>\n",
       "    <tr>\n",
       "      <th>2</th>\n",
       "      <td>device</td>\n",
       "      <td>DeviceApiV2DeviceController</td>\n",
       "      <td>production</td>\n",
       "      <td>core-cloud</td>\n",
       "      <td>CCB:6cb197c0-6be1-4e49-82f4-90539ab6ded2</td>\n",
       "      <td>NaN</td>\n",
       "      <td>23</td>\n",
       "      <td>logsearch-lifeline-agent-stateful-0.logsearch-...</td>\n",
       "      <td>200</td>\n",
       "      <td>production</td>\n",
       "      <td>...</td>\n",
       "      <td>d68a34f0-379c-4534-84e9-0278b8539c11</td>\n",
       "      <td>93df335640a41a3e4b1ecc00a4e58304</td>\n",
       "      <td>/device-api/v2/devices/fec4211e-1d9a-41c8-820d...</td>\n",
       "      <td>https://connect.g2bcc.com/device-api/v2/device...</td>\n",
       "      <td>DeviceApiV2DeviceController.getTaskList(String...</td>\n",
       "      <td>ch.belimo.cloud.server.deviceapi.v2.DeviceApiV...</td>\n",
       "      <td>111elm3x3ote5</td>\n",
       "      <td>http-nio-8080-exec-146</td>\n",
       "      <td></td>\n",
       "      <td>2025-01-16 08:45:23.452</td>\n",
       "    </tr>\n",
       "  </tbody>\n",
       "</table>\n",
       "<p>3 rows × 21 columns</p>\n",
       "</div>"
      ]
     },
     "execution_count": 10,
     "metadata": {},
     "output_type": "execute_result"
    }
   ],
   "execution_count": 10
  },
  {
   "metadata": {
    "ExecuteTime": {
     "end_time": "2025-03-19T22:19:46.301351Z",
     "start_time": "2025-03-19T22:19:20.815538Z"
    }
   },
   "cell_type": "code",
   "source": [
    "df = spark.read.format(\"deltaSharing\").load(\"config.share#start_hack_2025.start_hack_2025.ev3_device_data\").limit(3000)\n",
    "device_data = df.toPandas()"
   ],
   "outputs": [
    {
     "name": "stderr",
     "output_type": "stream",
     "text": [
      "                                                                                \r"
     ]
    }
   ],
   "execution_count": 40
  },
  {
   "metadata": {
    "ExecuteTime": {
     "end_time": "2025-03-19T22:19:55.734673Z",
     "start_time": "2025-03-19T22:19:55.702504Z"
    }
   },
   "cell_type": "code",
   "source": "device_data.describe()",
   "outputs": [
    {
     "data": {
      "text/plain": [
       "                 cloud_received_time                    sample_time  \\\n",
       "count                           3000                           3000   \n",
       "mean   2019-06-18 03:54:24.759784448  2019-06-18 03:52:03.722100736   \n",
       "min       2019-06-07 11:28:12.050000     2019-06-07 11:27:09.679000   \n",
       "25%    2019-06-10 15:08:05.989250048  2019-06-10 15:08:03.719749120   \n",
       "50%    2019-06-18 21:04:43.213500160  2019-06-18 21:01:56.467000064   \n",
       "75%    2019-06-23 11:07:17.809999872  2019-06-23 11:03:29.817500160   \n",
       "max       2019-06-30 16:42:57.080000     2019-06-30 16:39:55.093000   \n",
       "std                              NaN                            NaN   \n",
       "\n",
       "       T1_remote_K  T2_embeded_K  RelFlow_Fb_Rel2Vmax  RelPower_Fb_Rel2Pmax  \\\n",
       "count  3000.000000   3000.000000          3000.000000           3000.000000   \n",
       "mean    350.618156    324.017128            82.222152           3197.596325   \n",
       "min     349.922251    323.399219             0.000000              0.000000   \n",
       "25%     349.943194    323.446094            42.446413           1769.773691   \n",
       "50%     351.176178    324.485156           100.613720           4438.479273   \n",
       "75%     351.191885    324.503385           134.151626           4442.415693   \n",
       "max     351.223298    324.534635           134.151626           4951.879210   \n",
       "std       0.622385      0.527399            47.822677           1780.987107   \n",
       "\n",
       "       AbsFlow_Fb_m3s  AbsPower_Fb_W  Heating_E_J  Glycol_Concentration_Rel  \\\n",
       "count     3000.000000    3000.000000       3000.0                    3000.0   \n",
       "mean         0.002768  304989.705884          0.0                       0.0   \n",
       "min          0.000000       0.000000          0.0                       0.0   \n",
       "25%          0.001556  170502.106530          0.0                       0.0   \n",
       "50%          0.004025  443804.302423          0.0                       0.0   \n",
       "75%          0.004025  444023.612629          0.0                       0.0   \n",
       "max          0.004040  445669.128919          0.0                       0.0   \n",
       "std          0.001535  169490.063985          0.0                       0.0   \n",
       "\n",
       "       ...  SpDeltaT_applied_K  Error_Status_Cloud  DDC_BUS_Sp_Write  \\\n",
       "count  ...         3000.000000         3000.000000       3000.000000   \n",
       "mean   ...            7.673333            0.122667         51.675500   \n",
       "min    ...            5.000000            0.000000          0.000000   \n",
       "25%    ...            5.000000            0.000000         26.675001   \n",
       "50%    ...           10.000000            0.000000         52.599998   \n",
       "75%    ...           10.000000            0.000000         75.300003   \n",
       "max    ...           10.000000            4.000000        100.000000   \n",
       "std    ...            2.494400            0.689767         28.644056   \n",
       "\n",
       "       dT_Manager_Ste  Active_dT_Manager_total_h     DeltaT_K       DDC_Sp_V  \\\n",
       "count          3000.0                     3000.0  3000.000000   3.000000e+03   \n",
       "mean              2.0                        0.0    26.601028   3.056657e-05   \n",
       "min               2.0                        0.0    26.426774  4.940656e-324   \n",
       "25%               2.0                        0.0    26.499718  4.940656e-324   \n",
       "50%               2.0                        0.0    26.675438   6.400922e-27   \n",
       "75%               2.0                        0.0    26.688540   6.835123e-09   \n",
       "max               2.0                        0.0    26.717186   2.405279e-03   \n",
       "std               0.0                        0.0     0.095802   1.388262e-04   \n",
       "\n",
       "       OperatingHours  Flow_Volume_total_m3  Y3AnalogInputValue  \n",
       "count     3000.000000           3000.000000                 0.0  \n",
       "mean      2497.675858          24526.130890                 NaN  \n",
       "min       2230.310334           9246.188480                 NaN  \n",
       "25%       2308.565149          10501.205423                 NaN  \n",
       "50%       2512.673030          32888.222254                 NaN  \n",
       "75%       2621.018975          37423.514964                 NaN  \n",
       "max       2807.650556          40672.113677                 NaN  \n",
       "std        175.030499          13254.078725                 NaN  \n",
       "\n",
       "[8 rows x 32 columns]"
      ],
      "text/html": [
       "<div>\n",
       "<style scoped>\n",
       "    .dataframe tbody tr th:only-of-type {\n",
       "        vertical-align: middle;\n",
       "    }\n",
       "\n",
       "    .dataframe tbody tr th {\n",
       "        vertical-align: top;\n",
       "    }\n",
       "\n",
       "    .dataframe thead th {\n",
       "        text-align: right;\n",
       "    }\n",
       "</style>\n",
       "<table border=\"1\" class=\"dataframe\">\n",
       "  <thead>\n",
       "    <tr style=\"text-align: right;\">\n",
       "      <th></th>\n",
       "      <th>cloud_received_time</th>\n",
       "      <th>sample_time</th>\n",
       "      <th>T1_remote_K</th>\n",
       "      <th>T2_embeded_K</th>\n",
       "      <th>RelFlow_Fb_Rel2Vmax</th>\n",
       "      <th>RelPower_Fb_Rel2Pmax</th>\n",
       "      <th>AbsFlow_Fb_m3s</th>\n",
       "      <th>AbsPower_Fb_W</th>\n",
       "      <th>Heating_E_J</th>\n",
       "      <th>Glycol_Concentration_Rel</th>\n",
       "      <th>...</th>\n",
       "      <th>SpDeltaT_applied_K</th>\n",
       "      <th>Error_Status_Cloud</th>\n",
       "      <th>DDC_BUS_Sp_Write</th>\n",
       "      <th>dT_Manager_Ste</th>\n",
       "      <th>Active_dT_Manager_total_h</th>\n",
       "      <th>DeltaT_K</th>\n",
       "      <th>DDC_Sp_V</th>\n",
       "      <th>OperatingHours</th>\n",
       "      <th>Flow_Volume_total_m3</th>\n",
       "      <th>Y3AnalogInputValue</th>\n",
       "    </tr>\n",
       "  </thead>\n",
       "  <tbody>\n",
       "    <tr>\n",
       "      <th>count</th>\n",
       "      <td>3000</td>\n",
       "      <td>3000</td>\n",
       "      <td>3000.000000</td>\n",
       "      <td>3000.000000</td>\n",
       "      <td>3000.000000</td>\n",
       "      <td>3000.000000</td>\n",
       "      <td>3000.000000</td>\n",
       "      <td>3000.000000</td>\n",
       "      <td>3000.0</td>\n",
       "      <td>3000.0</td>\n",
       "      <td>...</td>\n",
       "      <td>3000.000000</td>\n",
       "      <td>3000.000000</td>\n",
       "      <td>3000.000000</td>\n",
       "      <td>3000.0</td>\n",
       "      <td>3000.0</td>\n",
       "      <td>3000.000000</td>\n",
       "      <td>3.000000e+03</td>\n",
       "      <td>3000.000000</td>\n",
       "      <td>3000.000000</td>\n",
       "      <td>0.0</td>\n",
       "    </tr>\n",
       "    <tr>\n",
       "      <th>mean</th>\n",
       "      <td>2019-06-18 03:54:24.759784448</td>\n",
       "      <td>2019-06-18 03:52:03.722100736</td>\n",
       "      <td>350.618156</td>\n",
       "      <td>324.017128</td>\n",
       "      <td>82.222152</td>\n",
       "      <td>3197.596325</td>\n",
       "      <td>0.002768</td>\n",
       "      <td>304989.705884</td>\n",
       "      <td>0.0</td>\n",
       "      <td>0.0</td>\n",
       "      <td>...</td>\n",
       "      <td>7.673333</td>\n",
       "      <td>0.122667</td>\n",
       "      <td>51.675500</td>\n",
       "      <td>2.0</td>\n",
       "      <td>0.0</td>\n",
       "      <td>26.601028</td>\n",
       "      <td>3.056657e-05</td>\n",
       "      <td>2497.675858</td>\n",
       "      <td>24526.130890</td>\n",
       "      <td>NaN</td>\n",
       "    </tr>\n",
       "    <tr>\n",
       "      <th>min</th>\n",
       "      <td>2019-06-07 11:28:12.050000</td>\n",
       "      <td>2019-06-07 11:27:09.679000</td>\n",
       "      <td>349.922251</td>\n",
       "      <td>323.399219</td>\n",
       "      <td>0.000000</td>\n",
       "      <td>0.000000</td>\n",
       "      <td>0.000000</td>\n",
       "      <td>0.000000</td>\n",
       "      <td>0.0</td>\n",
       "      <td>0.0</td>\n",
       "      <td>...</td>\n",
       "      <td>5.000000</td>\n",
       "      <td>0.000000</td>\n",
       "      <td>0.000000</td>\n",
       "      <td>2.0</td>\n",
       "      <td>0.0</td>\n",
       "      <td>26.426774</td>\n",
       "      <td>4.940656e-324</td>\n",
       "      <td>2230.310334</td>\n",
       "      <td>9246.188480</td>\n",
       "      <td>NaN</td>\n",
       "    </tr>\n",
       "    <tr>\n",
       "      <th>25%</th>\n",
       "      <td>2019-06-10 15:08:05.989250048</td>\n",
       "      <td>2019-06-10 15:08:03.719749120</td>\n",
       "      <td>349.943194</td>\n",
       "      <td>323.446094</td>\n",
       "      <td>42.446413</td>\n",
       "      <td>1769.773691</td>\n",
       "      <td>0.001556</td>\n",
       "      <td>170502.106530</td>\n",
       "      <td>0.0</td>\n",
       "      <td>0.0</td>\n",
       "      <td>...</td>\n",
       "      <td>5.000000</td>\n",
       "      <td>0.000000</td>\n",
       "      <td>26.675001</td>\n",
       "      <td>2.0</td>\n",
       "      <td>0.0</td>\n",
       "      <td>26.499718</td>\n",
       "      <td>4.940656e-324</td>\n",
       "      <td>2308.565149</td>\n",
       "      <td>10501.205423</td>\n",
       "      <td>NaN</td>\n",
       "    </tr>\n",
       "    <tr>\n",
       "      <th>50%</th>\n",
       "      <td>2019-06-18 21:04:43.213500160</td>\n",
       "      <td>2019-06-18 21:01:56.467000064</td>\n",
       "      <td>351.176178</td>\n",
       "      <td>324.485156</td>\n",
       "      <td>100.613720</td>\n",
       "      <td>4438.479273</td>\n",
       "      <td>0.004025</td>\n",
       "      <td>443804.302423</td>\n",
       "      <td>0.0</td>\n",
       "      <td>0.0</td>\n",
       "      <td>...</td>\n",
       "      <td>10.000000</td>\n",
       "      <td>0.000000</td>\n",
       "      <td>52.599998</td>\n",
       "      <td>2.0</td>\n",
       "      <td>0.0</td>\n",
       "      <td>26.675438</td>\n",
       "      <td>6.400922e-27</td>\n",
       "      <td>2512.673030</td>\n",
       "      <td>32888.222254</td>\n",
       "      <td>NaN</td>\n",
       "    </tr>\n",
       "    <tr>\n",
       "      <th>75%</th>\n",
       "      <td>2019-06-23 11:07:17.809999872</td>\n",
       "      <td>2019-06-23 11:03:29.817500160</td>\n",
       "      <td>351.191885</td>\n",
       "      <td>324.503385</td>\n",
       "      <td>134.151626</td>\n",
       "      <td>4442.415693</td>\n",
       "      <td>0.004025</td>\n",
       "      <td>444023.612629</td>\n",
       "      <td>0.0</td>\n",
       "      <td>0.0</td>\n",
       "      <td>...</td>\n",
       "      <td>10.000000</td>\n",
       "      <td>0.000000</td>\n",
       "      <td>75.300003</td>\n",
       "      <td>2.0</td>\n",
       "      <td>0.0</td>\n",
       "      <td>26.688540</td>\n",
       "      <td>6.835123e-09</td>\n",
       "      <td>2621.018975</td>\n",
       "      <td>37423.514964</td>\n",
       "      <td>NaN</td>\n",
       "    </tr>\n",
       "    <tr>\n",
       "      <th>max</th>\n",
       "      <td>2019-06-30 16:42:57.080000</td>\n",
       "      <td>2019-06-30 16:39:55.093000</td>\n",
       "      <td>351.223298</td>\n",
       "      <td>324.534635</td>\n",
       "      <td>134.151626</td>\n",
       "      <td>4951.879210</td>\n",
       "      <td>0.004040</td>\n",
       "      <td>445669.128919</td>\n",
       "      <td>0.0</td>\n",
       "      <td>0.0</td>\n",
       "      <td>...</td>\n",
       "      <td>10.000000</td>\n",
       "      <td>4.000000</td>\n",
       "      <td>100.000000</td>\n",
       "      <td>2.0</td>\n",
       "      <td>0.0</td>\n",
       "      <td>26.717186</td>\n",
       "      <td>2.405279e-03</td>\n",
       "      <td>2807.650556</td>\n",
       "      <td>40672.113677</td>\n",
       "      <td>NaN</td>\n",
       "    </tr>\n",
       "    <tr>\n",
       "      <th>std</th>\n",
       "      <td>NaN</td>\n",
       "      <td>NaN</td>\n",
       "      <td>0.622385</td>\n",
       "      <td>0.527399</td>\n",
       "      <td>47.822677</td>\n",
       "      <td>1780.987107</td>\n",
       "      <td>0.001535</td>\n",
       "      <td>169490.063985</td>\n",
       "      <td>0.0</td>\n",
       "      <td>0.0</td>\n",
       "      <td>...</td>\n",
       "      <td>2.494400</td>\n",
       "      <td>0.689767</td>\n",
       "      <td>28.644056</td>\n",
       "      <td>0.0</td>\n",
       "      <td>0.0</td>\n",
       "      <td>0.095802</td>\n",
       "      <td>1.388262e-04</td>\n",
       "      <td>175.030499</td>\n",
       "      <td>13254.078725</td>\n",
       "      <td>NaN</td>\n",
       "    </tr>\n",
       "  </tbody>\n",
       "</table>\n",
       "<p>8 rows × 32 columns</p>\n",
       "</div>"
      ]
     },
     "execution_count": 41,
     "metadata": {},
     "output_type": "execute_result"
    }
   ],
   "execution_count": 41
  },
  {
   "metadata": {},
   "cell_type": "code",
   "outputs": [],
   "execution_count": null,
   "source": ""
  }
 ],
 "metadata": {
  "application/vnd.databricks.v1+notebook": {
   "computePreferences": null,
   "dashboards": [],
   "environmentMetadata": {
    "base_environment": "",
    "client": "1"
   },
   "language": "python",
   "notebookMetadata": {
    "mostRecentlyExecutedCommandWithImplicitDF": {
     "commandId": 898704397433521,
     "dataframes": [
      "_sqldf"
     ]
    },
    "pythonIndentUnit": 4
   },
   "notebookName": "2025-start-hack-belimo-getting-started",
   "widgets": {}
  },
  "kernelspec": {
   "display_name": "Python 3 (ipykernel)",
   "language": "python",
   "name": "python3"
  },
  "language_info": {
   "codemirror_mode": {
    "name": "ipython",
    "version": 3
   },
   "file_extension": ".py",
   "mimetype": "text/x-python",
   "name": "python",
   "nbconvert_exporter": "python",
   "pygments_lexer": "ipython3",
   "version": "3.11.10"
  }
 },
 "nbformat": 4,
 "nbformat_minor": 4
}
