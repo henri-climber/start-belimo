{
 "cells": [
  {
   "cell_type": "markdown",
   "metadata": {},
   "source": [
    "### Start a spark session"
   ]
  },
  {
   "cell_type": "code",
   "metadata": {
    "jupyter": {
     "source_hidden": true
    },
    "ExecuteTime": {
     "end_time": "2025-03-19T21:01:20.427850Z",
     "start_time": "2025-03-19T21:01:19.798465Z"
    }
   },
   "source": [
    "from pyspark.sql import SparkSession\n",
    "\n",
    "spark = SparkSession \\\n",
    "    .builder \\\n",
    "    .appName(\"Python Spark SQL basic example\") \\\n",
    "    .config(\"spark.sql.extensions\", \"io.delta.sql.DeltaSparkSessionExtension\") \\\n",
    "    .config(\"spark.sql.catalog.spark_catalog\", \"org.apache.spark.sql.delta.catalog.DeltaCatalog\") \\\n",
    "    .config(\"spark.jars.packages\", \"io.delta:delta-sharing-spark_2.12:3.3.0\") \\\n",
    "    .getOrCreate()"
   ],
   "outputs": [],
   "execution_count": 4
  },
  {
   "cell_type": "markdown",
   "metadata": {
    "application/vnd.databricks.v1+cell": {
     "cellMetadata": {},
     "inputWidgets": {},
     "nuid": "aee784f9-1eb0-4a68-b122-22e05faedf3e",
     "showTitle": false,
     "tableResultSettingsMap": {},
     "title": ""
    }
   },
   "source": [
    "### List Tables\n",
    "Use the provided config"
   ]
  },
  {
   "cell_type": "code",
   "metadata": {
    "jupyter": {
     "source_hidden": true
    },
    "ExecuteTime": {
     "end_time": "2025-03-19T21:01:27.018912Z",
     "start_time": "2025-03-19T21:01:26.369280Z"
    }
   },
   "source": [
    "import delta_sharing\n",
    "config = \"config.share\"\n",
    "client = delta_sharing.SharingClient(config)\n",
    "client.list_all_tables()"
   ],
   "outputs": [
    {
     "data": {
      "text/plain": [
       "[Table(name='ev3_device_data', share='start_hack_2025', schema='start_hack_2025'),\n",
       " Table(name='cc_api_logs', share='start_hack_2025', schema='start_hack_2025'),\n",
       " Table(name='ev3_dataprofile', share='start_hack_2025', schema='start_hack_2025')]"
      ]
     },
     "execution_count": 5,
     "metadata": {},
     "output_type": "execute_result"
    }
   ],
   "execution_count": 5
  },
  {
   "cell_type": "markdown",
   "metadata": {
    "application/vnd.databricks.v1+cell": {
     "cellMetadata": {},
     "inputWidgets": {},
     "nuid": "04d6c843-0398-4933-ad9c-2e806ea5a3ad",
     "showTitle": false,
     "tableResultSettingsMap": {},
     "title": ""
    }
   },
   "source": [
    "### Table 1\n",
    "Energyvalve 3 dataprofile describing the datapoints found in the device data table."
   ]
  },
  {
   "cell_type": "code",
   "metadata": {
    "application/vnd.databricks.v1+cell": {
     "cellMetadata": {
      "byteLimit": 2048000,
      "rowLimit": 10000
     },
     "inputWidgets": {},
     "nuid": "ec8533c7-c95d-4d0a-9cd2-7d3995367409",
     "showTitle": false,
     "tableResultSettingsMap": {},
     "title": ""
    },
    "jupyter": {
     "source_hidden": true
    },
    "ExecuteTime": {
     "end_time": "2025-03-19T21:02:02.845674Z",
     "start_time": "2025-03-19T21:01:31.193922Z"
    }
   },
   "source": [
    "df = spark.read.format(\"deltaSharing\").load(\"config.share#start_hack_2025.start_hack_2025.ev3_dataprofile\").limit(3)\n",
    "df.toPandas()"
   ],
   "outputs": [
    {
     "name": "stderr",
     "output_type": "stream",
     "text": [
      "25/03/19 22:01:42 WARN SparkStringUtils: Truncated the string representation of a plan since it was too large. This behavior can be adjusted by setting 'spark.sql.debug.maxToStringFields'.\n",
      "                                                                                \r"
     ]
    },
    {
     "data": {
      "text/plain": [
       "              id access basetype         description  \\\n",
       "0  evcloud.00009      r      int          Valve Type   \n",
       "1     evcloud.10      r      int    DN Size of Valve   \n",
       "2    evcloud.100      r     real  Relative Flow in %   \n",
       "\n",
       "                            format                 name  privacy  \\\n",
       "0  application/vnd.belimo.enum;0|1            ValveType    False   \n",
       "1                             None              DN_Size    False   \n",
       "2                             None  RelFlow_Fb_Rel2Vmax    False   \n",
       "\n",
       "                  restriction    definedBy     unit  \n",
       "0                       uint8  evcloud/1.2     None  \n",
       "1                       int32  evcloud/1.2     None  \n",
       "2  [-2147483.648,2147483.647]  evcloud/1.2  percent  "
      ],
      "text/html": [
       "<div>\n",
       "<style scoped>\n",
       "    .dataframe tbody tr th:only-of-type {\n",
       "        vertical-align: middle;\n",
       "    }\n",
       "\n",
       "    .dataframe tbody tr th {\n",
       "        vertical-align: top;\n",
       "    }\n",
       "\n",
       "    .dataframe thead th {\n",
       "        text-align: right;\n",
       "    }\n",
       "</style>\n",
       "<table border=\"1\" class=\"dataframe\">\n",
       "  <thead>\n",
       "    <tr style=\"text-align: right;\">\n",
       "      <th></th>\n",
       "      <th>id</th>\n",
       "      <th>access</th>\n",
       "      <th>basetype</th>\n",
       "      <th>description</th>\n",
       "      <th>format</th>\n",
       "      <th>name</th>\n",
       "      <th>privacy</th>\n",
       "      <th>restriction</th>\n",
       "      <th>definedBy</th>\n",
       "      <th>unit</th>\n",
       "    </tr>\n",
       "  </thead>\n",
       "  <tbody>\n",
       "    <tr>\n",
       "      <th>0</th>\n",
       "      <td>evcloud.00009</td>\n",
       "      <td>r</td>\n",
       "      <td>int</td>\n",
       "      <td>Valve Type</td>\n",
       "      <td>application/vnd.belimo.enum;0|1</td>\n",
       "      <td>ValveType</td>\n",
       "      <td>False</td>\n",
       "      <td>uint8</td>\n",
       "      <td>evcloud/1.2</td>\n",
       "      <td>None</td>\n",
       "    </tr>\n",
       "    <tr>\n",
       "      <th>1</th>\n",
       "      <td>evcloud.10</td>\n",
       "      <td>r</td>\n",
       "      <td>int</td>\n",
       "      <td>DN Size of Valve</td>\n",
       "      <td>None</td>\n",
       "      <td>DN_Size</td>\n",
       "      <td>False</td>\n",
       "      <td>int32</td>\n",
       "      <td>evcloud/1.2</td>\n",
       "      <td>None</td>\n",
       "    </tr>\n",
       "    <tr>\n",
       "      <th>2</th>\n",
       "      <td>evcloud.100</td>\n",
       "      <td>r</td>\n",
       "      <td>real</td>\n",
       "      <td>Relative Flow in %</td>\n",
       "      <td>None</td>\n",
       "      <td>RelFlow_Fb_Rel2Vmax</td>\n",
       "      <td>False</td>\n",
       "      <td>[-2147483.648,2147483.647]</td>\n",
       "      <td>evcloud/1.2</td>\n",
       "      <td>percent</td>\n",
       "    </tr>\n",
       "  </tbody>\n",
       "</table>\n",
       "</div>"
      ]
     },
     "execution_count": 6,
     "metadata": {},
     "output_type": "execute_result"
    }
   ],
   "execution_count": 6
  },
  {
   "cell_type": "markdown",
   "metadata": {
    "application/vnd.databricks.v1+cell": {
     "cellMetadata": {},
     "inputWidgets": {},
     "nuid": "b8cf45ee-e8b7-49db-a675-c0236849895b",
     "showTitle": false,
     "tableResultSettingsMap": {},
     "title": ""
    }
   },
   "source": [
    "### Table 2\n",
    "Energyvalve 3 device data. **Big data** list of timeseries samples for devices. Devices are differentiated by the **device_id** column."
   ]
  },
  {
   "cell_type": "code",
   "execution_count": null,
   "metadata": {
    "application/vnd.databricks.v1+cell": {
     "cellMetadata": {
      "byteLimit": 2048000,
      "rowLimit": 10000
     },
     "inputWidgets": {},
     "nuid": "ff67b5b1-266b-4438-a46f-1773314774cd",
     "showTitle": false,
     "tableResultSettingsMap": {},
     "title": ""
    },
    "jupyter": {
     "source_hidden": true
    }
   },
   "outputs": [],
   "source": [
    "df = spark.read.format(\"deltaSharing\").load(\"config.share#start_hack_2025.start_hack_2025.ev3_device_data\").limit(3)\n",
    "df.toPandas()"
   ]
  },
  {
   "cell_type": "markdown",
   "metadata": {},
   "source": [
    "### Plot\n",
    "Heat Exchanger Characteristic"
   ]
  },
  {
   "cell_type": "code",
   "execution_count": null,
   "metadata": {
    "application/vnd.databricks.v1+cell": {
     "cellMetadata": {
      "byteLimit": 2048000,
      "rowLimit": 10000
     },
     "inputWidgets": {},
     "nuid": "a10e495f-7c0b-4e02-b148-a59d7219cc31",
     "showTitle": false,
     "tableResultSettingsMap": {},
     "title": ""
    },
    "jupyter": {
     "source_hidden": true
    }
   },
   "outputs": [],
   "source": [
    "from pyspark.sql.functions import col\n",
    "import matplotlib.pyplot as plt\n",
    "\n",
    "device_id = \"1a9da8fa-6fa8-49f3-8aaa-420b34eefe57\"\n",
    "year_month = \"202103\"\n",
    "x = \"AbsFlow_Fb_m3s\"\n",
    "y = \"AbsPower_Fb_W\"\n",
    "df_data = spark.read.format(\"deltaSharing\").load(\"config.share#start_hack_2025.start_hack_2025.ev3_device_data\").filter((col(\"device_id\") == device_id) & (col(\"year_month\") == year_month)).toPandas()\n",
    "year_month = year_month[:4] + '-' + year_month[4:]\n",
    "plt.scatter(df_data[x], df_data[y])\n",
    "plt.xlabel(x)\n",
    "plt.ylabel(y)\n",
    "plt.title(f\"Heat Exchanger Measurments ({year_month}) \\n Device ID: {device_id}\")\n",
    "plt.show()"
   ]
  },
  {
   "cell_type": "markdown",
   "metadata": {
    "application/vnd.databricks.v1+cell": {
     "cellMetadata": {},
     "inputWidgets": {},
     "nuid": "d3e14ff0-96e1-4a81-8695-48b0209be9fc",
     "showTitle": false,
     "tableResultSettingsMap": {},
     "title": ""
    }
   },
   "source": [
    "### Table 3\n",
    "Cloud api logs describing interactions with our cloud."
   ]
  },
  {
   "cell_type": "code",
   "execution_count": null,
   "metadata": {
    "application/vnd.databricks.v1+cell": {
     "cellMetadata": {
      "byteLimit": 2048000,
      "rowLimit": 10000
     },
     "inputWidgets": {},
     "nuid": "4a3e8aea-23ef-4edf-b9be-435a89d82fba",
     "showTitle": false,
     "tableResultSettingsMap": {},
     "title": ""
    },
    "jupyter": {
     "source_hidden": true
    }
   },
   "outputs": [],
   "source": [
    "df = spark.read.format(\"deltaSharing\").load(\"config.share#start_hack_2025.start_hack_2025.cc_api_logs\").limit(3)\n",
    "df.toPandas()"
   ]
  }
 ],
 "metadata": {
  "application/vnd.databricks.v1+notebook": {
   "computePreferences": null,
   "dashboards": [],
   "environmentMetadata": {
    "base_environment": "",
    "client": "1"
   },
   "language": "python",
   "notebookMetadata": {
    "mostRecentlyExecutedCommandWithImplicitDF": {
     "commandId": 898704397433521,
     "dataframes": [
      "_sqldf"
     ]
    },
    "pythonIndentUnit": 4
   },
   "notebookName": "2025-start-hack-belimo-getting-started",
   "widgets": {}
  },
  "kernelspec": {
   "display_name": "Python 3 (ipykernel)",
   "language": "python",
   "name": "python3"
  },
  "language_info": {
   "codemirror_mode": {
    "name": "ipython",
    "version": 3
   },
   "file_extension": ".py",
   "mimetype": "text/x-python",
   "name": "python",
   "nbconvert_exporter": "python",
   "pygments_lexer": "ipython3",
   "version": "3.11.10"
  }
 },
 "nbformat": 4,
 "nbformat_minor": 4
}
