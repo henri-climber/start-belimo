{
 "cells": [
  {
   "cell_type": "code",
   "id": "initial_id",
   "metadata": {
    "collapsed": true,
    "ExecuteTime": {
     "end_time": "2025-03-20T18:59:07.221977Z",
     "start_time": "2025-03-20T18:59:07.089Z"
    }
   },
   "source": [
    "import pandas as pd\n",
    "df = pd.read_parquet(\"loaded_data/1a9da8fa-6fa8-49f3-8aaa-420b34eefe57_['202005', '202006', '202007', '202008', '202009', '202010', '202011', '202012']_None.parquet\")"
   ],
   "outputs": [],
   "execution_count": 20
  },
  {
   "metadata": {
    "ExecuteTime": {
     "end_time": "2025-03-20T18:59:07.893023Z",
     "start_time": "2025-03-20T18:59:07.863796Z"
    }
   },
   "cell_type": "code",
   "source": [
    "# only keep columns year_month, sample_time, DeltaT_K\n",
    "df = df[[\"year_month\", \"sample_time\", \"DeltaT_K\", \"T1_remote_K\", \"T2_embeded_K\", \"cloud_received_time\", \"Cooling_E_J\", \"Heating_E_J\"]]"
   ],
   "id": "c59e9600d7134103",
   "outputs": [],
   "execution_count": 21
  },
  {
   "metadata": {
    "ExecuteTime": {
     "end_time": "2025-03-20T18:59:08.691370Z",
     "start_time": "2025-03-20T18:59:08.543957Z"
    }
   },
   "cell_type": "code",
   "source": "df.to_parquet(\"loaded_data/data_2020.parquet\")",
   "id": "e24cb1690e9f48fe",
   "outputs": [],
   "execution_count": 22
  },
  {
   "metadata": {
    "ExecuteTime": {
     "end_time": "2025-03-20T18:49:35.178555Z",
     "start_time": "2025-03-20T18:49:13.282117Z"
    }
   },
   "cell_type": "code",
   "source": "df.to_csv(\"loaded_data/test2.csv.gz\", index=False, compression=\"gzip\")",
   "id": "84f030b5d63b1d07",
   "outputs": [],
   "execution_count": 4
  },
  {
   "metadata": {},
   "cell_type": "code",
   "outputs": [],
   "execution_count": null,
   "source": "",
   "id": "259147c90f89f555"
  }
 ],
 "metadata": {
  "kernelspec": {
   "display_name": "Python 3",
   "language": "python",
   "name": "python3"
  },
  "language_info": {
   "codemirror_mode": {
    "name": "ipython",
    "version": 2
   },
   "file_extension": ".py",
   "mimetype": "text/x-python",
   "name": "python",
   "nbconvert_exporter": "python",
   "pygments_lexer": "ipython2",
   "version": "2.7.6"
  }
 },
 "nbformat": 4,
 "nbformat_minor": 5
}
